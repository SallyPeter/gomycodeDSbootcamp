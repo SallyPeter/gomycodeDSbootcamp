{
  "nbformat": 4,
  "nbformat_minor": 0,
  "metadata": {
    "colab": {
      "provenance": [],
      "authorship_tag": "ABX9TyNxRTnLbjWUlXVuvJiBwT9u",
      "include_colab_link": true
    },
    "kernelspec": {
      "name": "python3",
      "display_name": "Python 3"
    },
    "language_info": {
      "name": "python"
    }
  },
  "cells": [
    {
      "cell_type": "markdown",
      "metadata": {
        "id": "view-in-github",
        "colab_type": "text"
      },
      "source": [
        "<a href=\"https://colab.research.google.com/github/SallyPeter/gomycodeDSbootcamp/blob/main/FaceDetectionApp/Face_detection_test.ipynb\" target=\"_parent\"><img src=\"https://colab.research.google.com/assets/colab-badge.svg\" alt=\"Open In Colab\"/></a>"
      ]
    },
    {
      "cell_type": "code",
      "source": [
        "pip install opencv-python"
      ],
      "metadata": {
        "colab": {
          "base_uri": "https://localhost:8080/"
        },
        "id": "TLFXuNSDzXWr",
        "outputId": "0b7b8f13-ac7c-4220-e04c-b22923c460fc"
      },
      "execution_count": 1,
      "outputs": [
        {
          "output_type": "stream",
          "name": "stdout",
          "text": [
            "Requirement already satisfied: opencv-python in /usr/local/lib/python3.10/dist-packages (4.10.0.84)\n",
            "Requirement already satisfied: numpy>=1.21.2 in /usr/local/lib/python3.10/dist-packages (from opencv-python) (1.26.4)\n"
          ]
        }
      ]
    },
    {
      "cell_type": "code",
      "execution_count": 2,
      "metadata": {
        "id": "FFhH7DugsAz8"
      },
      "outputs": [],
      "source": [
        "import cv2"
      ]
    },
    {
      "cell_type": "code",
      "source": [
        "# Step 2: Load the face cascade classifier\n",
        "\n",
        "face_cascade = cv2.CascadeClassifier('haarcascade_frontalface_default.xml')"
      ],
      "metadata": {
        "id": "UJH703DnsFx7"
      },
      "execution_count": 3,
      "outputs": []
    },
    {
      "cell_type": "code",
      "source": [
        "def detect_faces():\n",
        "\n",
        "    # Initialize the webcam\n",
        "\n",
        "    cap = cv2.VideoCapture(0)\n",
        "\n",
        "    while True:\n",
        "\n",
        "        # Read the frames from the webcam\n",
        "\n",
        "        ret, frame = cap.read()\n",
        "\n",
        "        # Convert the frames to grayscale\n",
        "\n",
        "        gray = cv2.cvtColor(frame, cv2.COLOR_BGR2GRAY)\n",
        "\n",
        "        # Detect the faces using the face cascade classifier\n",
        "\n",
        "        faces = face_cascade.detectMultiScale(gray, scaleFactor=1.3, minNeighbors=5)\n",
        "\n",
        "        # Draw rectangles around the detected faces\n",
        "\n",
        "        for (x, y, w, h) in faces:\n",
        "\n",
        "            cv2.rectangle(frame, (x, y), (x + w, y + h), (0, 255, 0), 2)\n",
        "\n",
        "        # Display the frames\n",
        "\n",
        "        cv2.imshow('Face Detection using Viola-Jones Algorithm', frame)\n",
        "\n",
        "        # Exit the loop when 'q' is pressed\n",
        "\n",
        "        if cv2.waitKey(1) & 0xFF == ord('q'):\n",
        "\n",
        "            break\n",
        "\n",
        "    # Release the webcam and close all windows\n",
        "\n",
        "    cap.release()\n",
        "\n",
        "    cv2.destroyAllWindows()"
      ],
      "metadata": {
        "id": "r5EPuLsGsFuV"
      },
      "execution_count": null,
      "outputs": []
    },
    {
      "cell_type": "code",
      "source": [
        "def app():\n",
        "\n",
        "    st.title(\"Face Detection using Viola-Jones Algorithm\")\n",
        "\n",
        "    st.write(\"Press the button below to start detecting faces from your webcam\")\n",
        "\n",
        "    # Add a button to start detecting faces\n",
        "\n",
        "    if st.button(\"Detect Faces\"):\n",
        "\n",
        "        # Call the detect_faces function\n",
        "\n",
        "        detect_faces()\n",
        "\n",
        "if __name__ == \"__main__\":\n",
        "\n",
        "    app()"
      ],
      "metadata": {
        "id": "6pMin_s8sFrG"
      },
      "execution_count": null,
      "outputs": []
    },
    {
      "cell_type": "code",
      "source": [],
      "metadata": {
        "id": "VfDP6TPJsFoD"
      },
      "execution_count": null,
      "outputs": []
    },
    {
      "cell_type": "code",
      "source": [],
      "metadata": {
        "id": "GFQyUt84xHTw"
      },
      "execution_count": null,
      "outputs": []
    },
    {
      "cell_type": "code",
      "source": [],
      "metadata": {
        "id": "Em7YF7bwxHQO"
      },
      "execution_count": null,
      "outputs": []
    },
    {
      "cell_type": "code",
      "source": [],
      "metadata": {
        "id": "YzgdjiR3xHNh"
      },
      "execution_count": null,
      "outputs": []
    },
    {
      "cell_type": "code",
      "source": [],
      "metadata": {
        "id": "5MyFBsjFxHKi"
      },
      "execution_count": null,
      "outputs": []
    }
  ]
}