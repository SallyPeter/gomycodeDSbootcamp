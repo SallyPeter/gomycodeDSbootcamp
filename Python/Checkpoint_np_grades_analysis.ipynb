{
  "nbformat": 4,
  "nbformat_minor": 0,
  "metadata": {
    "colab": {
      "provenance": [],
      "authorship_tag": "ABX9TyPyLy/CcwegyHEXrU5oKh0d",
      "include_colab_link": true
    },
    "kernelspec": {
      "name": "python3",
      "display_name": "Python 3"
    },
    "language_info": {
      "name": "python"
    }
  },
  "cells": [
    {
      "cell_type": "markdown",
      "metadata": {
        "id": "view-in-github",
        "colab_type": "text"
      },
      "source": [
        "<a href=\"https://colab.research.google.com/github/SallyPeter/gomycodeDSbootcamp/blob/main/Python/Checkpoint_np_grades_analysis.ipynb\" target=\"_parent\"><img src=\"https://colab.research.google.com/assets/colab-badge.svg\" alt=\"Open In Colab\"/></a>"
      ]
    },
    {
      "cell_type": "markdown",
      "source": [
        "**What You're Aiming For**\n",
        "\n",
        "- Create a numpy array called \"grades\" that contains the following grades: [85, 90, 88, 92, 95, 80, 75, 98, 89, 83]\n",
        "\n",
        "\n",
        "**Instructions**\n",
        "\n",
        "1. Create a new file called \"grades_analysis.py\"\n",
        "2. Import the numpy library and create the \"grades\" array as specified above.\n",
        "3. Use numpy functions to calculate the mean, median, and standard deviation of the grades.\n",
        "4. Use numpy function to find the maximum and minimum of the grades.\n",
        "5. Use numpy function to sort the grades in ascending order.\n",
        "6. Use numpy function to find the index of the highest grade in the array.\n",
        "7. Use numpy function to count the number of students who scored above 90.\n",
        "8. Use numpy function to calculate the percentage of students who scored above 90.\n",
        "9. Use numpy function to calculate the percentage of students who scored below 75.\n",
        "10. Use numpy function to extract all the grades above 90 and put them in a new array called \"high_performers\".\n",
        "11. Create a new array called \"passing_grades\" that contains all the grades above 75.\n",
        " - *Print the result of all the above steps.*\n",
        "\n",
        "\n",
        "**Note:**\n",
        "\n",
        "- To calculate percentage use numpy.mean(grades > 90) * 100\n",
        "- To extract the grades above 90 use grades[grades > 90]\n",
        "- To extract the grades above 75 use grades[grades > 75]\n",
        "- You can use other numpy functions as well to analyze the data as you want. The above steps are just examples of what can be done."
      ],
      "metadata": {
        "id": "tTN4nCiXfs70"
      }
    },
    {
      "cell_type": "code",
      "execution_count": 1,
      "metadata": {
        "id": "11mIzt8EflQ6"
      },
      "outputs": [],
      "source": [
        "# Import the numpy library and create the \"grades\" array as specified above.\n",
        "\n",
        "import numpy as np"
      ]
    },
    {
      "cell_type": "code",
      "source": [
        "grades = np.array( [85, 90, 88, 92, 95, 80, 75, 98, 89, 83])\n",
        "grades"
      ],
      "metadata": {
        "colab": {
          "base_uri": "https://localhost:8080/"
        },
        "id": "MixVMGECfscq",
        "outputId": "5be089ac-2264-445b-f4c6-f2aafd339b5f"
      },
      "execution_count": 2,
      "outputs": [
        {
          "output_type": "execute_result",
          "data": {
            "text/plain": [
              "array([85, 90, 88, 92, 95, 80, 75, 98, 89, 83])"
            ]
          },
          "metadata": {},
          "execution_count": 2
        }
      ]
    },
    {
      "cell_type": "code",
      "source": [
        "# Use numpy functions to calculate the mean, median, and standard deviation of the grades.\n",
        "\n",
        "mean_grade = np.mean(grades)\n",
        "median_grade = np.median(grades)\n",
        "std_grade = np.std(grades)\n",
        "\n",
        "print(f'The mean grade is {mean_grade}')\n",
        "print(f'The median grade is {median_grade}')\n",
        "print(f'The standard deviation of the given grades is {std_grade}')"
      ],
      "metadata": {
        "colab": {
          "base_uri": "https://localhost:8080/"
        },
        "id": "KqY4NLh7fsZP",
        "outputId": "167d5804-3a26-4ecf-fbed-ad1b0008c896"
      },
      "execution_count": 3,
      "outputs": [
        {
          "output_type": "stream",
          "name": "stdout",
          "text": [
            "The mean grade is 87.5\n",
            "The median grade is 88.5\n",
            "The standard deviation of the given grades is 6.591661399070799\n"
          ]
        }
      ]
    },
    {
      "cell_type": "code",
      "source": [
        "# Use numpy function to find the maximum and minimum of the grades.\n",
        "\n",
        "max_grade = np.max(grades)\n",
        "min_grade = np.min(grades)\n",
        "\n",
        "print(f'The max grade is {max_grade}')\n",
        "print(f'The minx grade is {min_grade}')"
      ],
      "metadata": {
        "colab": {
          "base_uri": "https://localhost:8080/"
        },
        "id": "NVku-tWQfsXG",
        "outputId": "dde98f4d-a0ca-492b-f3af-758a95b21bf9"
      },
      "execution_count": 4,
      "outputs": [
        {
          "output_type": "stream",
          "name": "stdout",
          "text": [
            "The max grade is 98\n",
            "The minx grade is 75\n"
          ]
        }
      ]
    },
    {
      "cell_type": "code",
      "source": [
        "# Use numpy function to sort the grades in ascending order.\n",
        "\n",
        "sorted_grades = np.sort(grades)\n",
        "print(f'Sorted grades ---- {sorted_grades}')"
      ],
      "metadata": {
        "colab": {
          "base_uri": "https://localhost:8080/"
        },
        "id": "CEDWEgqhfsUT",
        "outputId": "28f750da-5648-4179-bac7-d2ce9430ea0f"
      },
      "execution_count": 5,
      "outputs": [
        {
          "output_type": "stream",
          "name": "stdout",
          "text": [
            "Sorted grades ---- [75 80 83 85 88 89 90 92 95 98]\n"
          ]
        }
      ]
    },
    {
      "cell_type": "code",
      "source": [
        "# Use numpy function to find the index of the highest grade in the array.\n",
        "\n",
        "ind_highest = np.argmax(grades)\n",
        "\n",
        "print(f'''The index of the highest grade is {ind_highest}\n",
        "Which means it is the {ind_highest +1}th element in the array grades''')"
      ],
      "metadata": {
        "colab": {
          "base_uri": "https://localhost:8080/"
        },
        "id": "QuHmAgsafsRK",
        "outputId": "2a20bcbe-ed56-418a-d384-60370713bf7c"
      },
      "execution_count": 7,
      "outputs": [
        {
          "output_type": "stream",
          "name": "stdout",
          "text": [
            "The index of the highest grade is 7 \n",
            "Which means it is the 8th element in the array grades\n"
          ]
        }
      ]
    },
    {
      "cell_type": "code",
      "source": [
        "# Use numpy function to count the number of students who scored above 90.\n",
        "\n",
        "num_stud_90 = np.sum(grades > 90)\n",
        "\n",
        "print(f'The number of students with grades above 90 is {num_stud_90}')"
      ],
      "metadata": {
        "colab": {
          "base_uri": "https://localhost:8080/"
        },
        "id": "vmJnoCErfsOp",
        "outputId": "90b3c3b2-82ab-4552-da90-108c4ddb4686"
      },
      "execution_count": 8,
      "outputs": [
        {
          "output_type": "stream",
          "name": "stdout",
          "text": [
            "The number of student with grades above 90 is 3\n"
          ]
        }
      ]
    },
    {
      "cell_type": "code",
      "source": [
        "# Use numpy function to calculate the percentage of students who scored above 90.\n",
        "\n",
        "pct_stud_90 = (np.sum(grades > 90)/np.size(grades)) * 100\n",
        "\n",
        "print(f'The percentage of students with grades above 90 is {pct_stud_90}%')"
      ],
      "metadata": {
        "colab": {
          "base_uri": "https://localhost:8080/"
        },
        "id": "6znp3ekIfsL8",
        "outputId": "53c2855a-39ee-4820-ef0c-8f433b83abcf"
      },
      "execution_count": 12,
      "outputs": [
        {
          "output_type": "stream",
          "name": "stdout",
          "text": [
            "The percentage of students with grades above 90 is 30.0%\n"
          ]
        }
      ]
    },
    {
      "cell_type": "code",
      "source": [
        "# Use numpy function to calculate the percentage of students who scored below 75.\n",
        "\n",
        "pct_stud_75 = (np.sum(grades < 75)/np.size(grades)) * 100\n",
        "\n",
        "print(f'The percentage of students with grades below 75 is {pct_stud_75}%')"
      ],
      "metadata": {
        "colab": {
          "base_uri": "https://localhost:8080/"
        },
        "id": "z1wNo1nNfsJl",
        "outputId": "865bec2f-fab2-4c72-a855-efcc8d07141c"
      },
      "execution_count": 13,
      "outputs": [
        {
          "output_type": "stream",
          "name": "stdout",
          "text": [
            "The percentage of students with grades below 75 is 0.0%\n"
          ]
        }
      ]
    },
    {
      "cell_type": "code",
      "source": [
        "# Use numpy function to extract all the grades above 90 and put them in a new array called \"high_performers\".\n",
        "\n",
        "high_performers = grades[grades > 90]\n",
        "\n",
        "print(f'The grades above 90 are {high_performers}')"
      ],
      "metadata": {
        "id": "kHUAcVhpluNj",
        "outputId": "f1364e7e-2c79-4045-86b6-fadf75fc2dc1",
        "colab": {
          "base_uri": "https://localhost:8080/"
        }
      },
      "execution_count": 14,
      "outputs": [
        {
          "output_type": "stream",
          "name": "stdout",
          "text": [
            "The grades above 90 are [92 95 98]\n"
          ]
        }
      ]
    },
    {
      "cell_type": "code",
      "source": [
        "# Create a new array called \"passing_grades\" that contains all the grades above 75.\n",
        "\n",
        "passing_grades = grades[grades > 75]\n",
        "\n",
        "print(f'The passing grades are {passing_grades}')"
      ],
      "metadata": {
        "id": "pDQgRJhOluKJ",
        "outputId": "df854d97-6e9a-45ec-853c-a008ad188241",
        "colab": {
          "base_uri": "https://localhost:8080/"
        }
      },
      "execution_count": 16,
      "outputs": [
        {
          "output_type": "stream",
          "name": "stdout",
          "text": [
            "The passing grades are [85 90 88 92 95 80 98 89 83]\n"
          ]
        }
      ]
    },
    {
      "cell_type": "code",
      "source": [],
      "metadata": {
        "id": "GW4jnUJ4luHf"
      },
      "execution_count": null,
      "outputs": []
    },
    {
      "cell_type": "code",
      "source": [],
      "metadata": {
        "id": "wByzoioqfsGk"
      },
      "execution_count": null,
      "outputs": []
    }
  ]
}