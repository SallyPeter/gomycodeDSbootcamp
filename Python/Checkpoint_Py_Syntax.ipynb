{
 "cells": [
  {
   "cell_type": "markdown",
   "metadata": {},
   "source": [
    "### What You're Aiming For\n",
    "\n",
    "Congratulations, you've got a job at Python Pizza. Your first job is to build an automatic pizza order program. Based on a user's order, work out their final bill.\n",
    "\n",
    " ``` Small Pizza: $15 ``` \n",
    "\n",
    "``` Medium Pizza: $20 ``` \n",
    "\n",
    "``` Large Pizza: $25 ``` \n",
    "\n",
    "If they want to add pepperoni :\n",
    "\n",
    "``` Pepperoni for Small Pizza: +$2 ``` \n",
    "\n",
    "``` Pepperoni for Medium or Large Pizza: +$3 ```\n",
    "\n",
    "If they want cheese :\n",
    "\n",
    " ``` Extra cheese for any size pizza: + $1 ```\n",
    "\n",
    "\n",
    "### Instructions\n",
    "\n",
    "1. Open a new file in your Python development environment or IDE.\n",
    "2. Begin by typing the line 'Welcome to Python Pizza Deliveries' which will display a welcome message when the code is run.\n",
    "3. Add a line that prompts the user for the size of the pizza they want using the input() function and stores the user's input in a variable named 'size'.\n",
    "4. Add a line that prompts the user if they want pepperoni on their pizza using the input() function and stores the user's input in a variable named 'add_pepperoni'.\n",
    "5. Add a line that prompts the user if they want extra cheese on their pizza using the input() function and stores the user's input in a variable named 'extra_cheese'.\n",
    "6. Check your code for any syntax errors or mistakes.\n",
    "7. Run the code and test it by providing inputs for size, pepperoni, and extra cheese.\n",
    "\n",
    "Example Input\n",
    "\n",
    "size = \"L\"\n",
    "\n",
    "add_pepperoni = \"Y\"\n",
    "\n",
    "extra_cheese = \"N\"\n",
    "\n",
    "Example Output\n",
    "\n",
    "Your final bill is: $28.\n",
    "\n",
    "When you hit **run**, this is what should happen"
   ]
  },
  {
   "cell_type": "code",
   "execution_count": 1,
   "metadata": {},
   "outputs": [
    {
     "name": "stdout",
     "output_type": "stream",
     "text": [
      "Welcome to Python Pizza Deliveries!\n",
      "Please enter \n",
      " L - Large \n",
      " M - Medium \n",
      " S - Small\n",
      "Please enter \n",
      " Y - Yes \n",
      " N - No\n",
      "Your final bill is 29\n"
     ]
    }
   ],
   "source": [
    "print(\"Welcome to Python Pizza Deliveries!\")\n",
    "\n",
    "print(\"Please enter \\n L - Large \\n M - Medium \\n S - Small\")\n",
    "size = input(\"Pizza Size: \").lower()\n",
    "\n",
    "print(\"Please enter \\n Y - Yes \\n N - No\")\n",
    "add_pepperoni = input(\"Pepperoni: \").lower()\n",
    "extra_cheese = input(\"Extra Cheese: \").lower()\n",
    "\n",
    "price = 0\n",
    "\n",
    "if size == \"l\":\n",
    "    price += 25\n",
    "    if add_pepperoni == \"y\":\n",
    "        price += 3\n",
    "        if extra_cheese == \"y\":\n",
    "            price += 1\n",
    "elif size == \"m\":\n",
    "    price += 20\n",
    "    if add_pepperoni == \"y\":\n",
    "        price += 3\n",
    "        if extra_cheese == \"y\":\n",
    "            price += 1\n",
    "elif size == \"s\":\n",
    "    price += 15\n",
    "    if add_pepperoni == \"y\":\n",
    "        price += 2\n",
    "        if extra_cheese == \"y\":\n",
    "            price += 1\n",
    "else:\n",
    "    print(\"You entered a wrong size option\")\n",
    "\n",
    "print(f\"Your final bill is {price}\")"
   ]
  },
  {
   "cell_type": "code",
   "execution_count": 3,
   "metadata": {},
   "outputs": [
    {
     "data": {
      "text/plain": [
       "{'L': 25, 'M': 20, 'S': 15}"
      ]
     },
     "execution_count": 3,
     "metadata": {},
     "output_type": "execute_result"
    }
   ],
   "source": [
    "print(\"Welcome to Python Pizza Deliveries!\")\n",
    "\n",
    "price = 0\n",
    "\n",
    "print('''Menu Order\\n\n",
    "      Pizza Size\\n\n",
    "      Large Pizza (L) ---- $25\n",
    "      Medium Pizza (M) ---- $20\n",
    "      Small Pizza (S) ---- $15\\n \n",
    "      Extras\\n \n",
    "      Pepperoni (L/M pizza) ---- $3\n",
    "      Pepperoni (S pizza) ---- $2\n",
    "      Cheese ---- $1 ''')\n",
    "\n",
    "print(\"\\nEnter the pizza sizes and Y/N for the extras when prompted\")\n",
    "\n",
    "size = input(\"Pizza Size: \").lower()\n",
    "add_pepperoni = input(\"Pepperoni: \").lower()\n",
    "extra_cheese = input(\"Extra Cheese: \").lower()\n",
    "\n",
    "if size == \"l\":\n",
    "    price += 25\n",
    "elif size == \"m\":\n",
    "    price += 20\n",
    "elif size == \"s\":\n",
    "    price += 15\n",
    "else:\n",
    "    print(\"You entered a wrong size option\")\n",
    "\n",
    "if price != 0:\n",
    "    if add_pepperoni == \"y\" and size in [\"l\", \"m\"]:\n",
    "        price += 3\n",
    "    else:\n",
    "        price += 2\n",
    "    if extra_cheese == \"y\":\n",
    "            price += 1\n",
    "    \n",
    "print(f\"Your final bill is {price}\")\n"
   ]
  },
  {
   "cell_type": "code",
   "execution_count": 7,
   "metadata": {},
   "outputs": [
    {
     "name": "stdout",
     "output_type": "stream",
     "text": [
      "Menu Order\n",
      "\n",
      "      Pizza Size\n",
      "\n",
      "      Large Pizza (L) ---- $25\n",
      "      Medium Pizza (M) ---- $20\n",
      "      Small Pizza (S) ---- $15\n",
      " \n",
      "      Extras\n",
      " \n",
      "      Pepperoni (L/M pizza) ---- $3\n",
      "      Pepperoni (S pizza) ---- $2\n",
      "      Cheese ---- $1 \n"
     ]
    }
   ],
   "source": []
  },
  {
   "cell_type": "code",
   "execution_count": null,
   "metadata": {},
   "outputs": [],
   "source": []
  },
  {
   "cell_type": "code",
   "execution_count": null,
   "metadata": {},
   "outputs": [],
   "source": []
  },
  {
   "cell_type": "code",
   "execution_count": null,
   "metadata": {},
   "outputs": [],
   "source": []
  },
  {
   "cell_type": "code",
   "execution_count": null,
   "metadata": {},
   "outputs": [],
   "source": []
  },
  {
   "cell_type": "code",
   "execution_count": null,
   "metadata": {},
   "outputs": [],
   "source": []
  }
 ],
 "metadata": {
  "kernelspec": {
   "display_name": "base",
   "language": "python",
   "name": "python3"
  },
  "language_info": {
   "codemirror_mode": {
    "name": "ipython",
    "version": 3
   },
   "file_extension": ".py",
   "mimetype": "text/x-python",
   "name": "python",
   "nbconvert_exporter": "python",
   "pygments_lexer": "ipython3",
   "version": "3.8.5"
  }
 },
 "nbformat": 4,
 "nbformat_minor": 2
}
