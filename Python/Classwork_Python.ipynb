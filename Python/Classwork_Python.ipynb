{
 "cells": [
  {
   "cell_type": "markdown",
   "metadata": {},
   "source": [
    "# Python Basics"
   ]
  },
  {
   "cell_type": "markdown",
   "metadata": {},
   "source": [
    "### Print Function"
   ]
  },
  {
   "cell_type": "code",
   "execution_count": 1,
   "metadata": {},
   "outputs": [
    {
     "name": "stdout",
     "output_type": "stream",
     "text": [
      "hello world!\n"
     ]
    }
   ],
   "source": [
    "# Print statement to display a message to the user.\n",
    "print(\"hello world!\")"
   ]
  },
  {
   "cell_type": "code",
   "execution_count": 3,
   "metadata": {},
   "outputs": [
    {
     "name": "stdout",
     "output_type": "stream",
     "text": [
      "Python Print Function\n",
      "The function is declared like this\n",
      "what to print\n"
     ]
    }
   ],
   "source": [
    "print(\"Python Print Function\")\n",
    "print(\"The function is declared like this\")\n",
    "print(\"what to print\")"
   ]
  },
  {
   "cell_type": "code",
   "execution_count": 4,
   "metadata": {},
   "outputs": [
    {
     "name": "stdout",
     "output_type": "stream",
     "text": [
      "hello world!\n",
      "hello world!\n",
      "hello world!\n"
     ]
    }
   ],
   "source": [
    "''' Using the next line \"\\n\" to print multiple lines \n",
    "instead of the print function multiple times'''\n",
    "\n",
    "print(\"hello world!\\nhello world!\\nhello world!\")\n"
   ]
  },
  {
   "cell_type": "code",
   "execution_count": 5,
   "metadata": {},
   "outputs": [
    {
     "name": "stdout",
     "output_type": "stream",
     "text": [
      "Python Print Function\n",
      "The function is declared this way\n",
      "what to print\n"
     ]
    }
   ],
   "source": [
    "print(\"Python Print Function\\nThe function is declared this way\\nwhat to print\")"
   ]
  },
  {
   "cell_type": "code",
   "execution_count": 6,
   "metadata": {},
   "outputs": [
    {
     "name": "stdout",
     "output_type": "stream",
     "text": [
      "hello Gomycode\n"
     ]
    }
   ],
   "source": [
    "# Concatenating Strings\n",
    "\n",
    "print(\"hello\"+ \" \"+\"Gomycode\")"
   ]
  },
  {
   "cell_type": "markdown",
   "metadata": {},
   "source": [
    "### Input Function"
   ]
  },
  {
   "cell_type": "code",
   "execution_count": 7,
   "metadata": {},
   "outputs": [
    {
     "data": {
      "text/plain": [
       "'Sally'"
      ]
     },
     "execution_count": 7,
     "metadata": {},
     "output_type": "execute_result"
    }
   ],
   "source": [
    "# The Input function is used to accept values from the user\n",
    "\n",
    "input(\"What is your name: \")"
   ]
  },
  {
   "cell_type": "code",
   "execution_count": 10,
   "metadata": {},
   "outputs": [
    {
     "name": "stdout",
     "output_type": "stream",
     "text": [
      "Hello Sally\n"
     ]
    }
   ],
   "source": [
    "# Using the print and input statement together.\n",
    "\n",
    "print(\"Hello \" + input(\"What is your name: \"))"
   ]
  },
  {
   "cell_type": "code",
   "execution_count": null,
   "metadata": {},
   "outputs": [],
   "source": [
    "# Look at the code in the code below. There are errors in all of the lines of code. Fix the code so that it runs without errors.\n",
    "\n",
    "print(Day 1 - String Manipulation\")\n",
    "print(\"String Concatenation is done with the \"+\" sign.\")\n",
    "  print('e.g. print(\"Hello \" + \"world\")')\n",
    "print((\"New lines can be created with a backslash and n.\")"
   ]
  },
  {
   "cell_type": "code",
   "execution_count": 11,
   "metadata": {},
   "outputs": [
    {
     "name": "stdout",
     "output_type": "stream",
     "text": [
      "Day 1 - String Manipulation\n",
      "String Concatenation is done with the +sign.\n",
      "e.g. print(\"Hello \" + \"world\")\n",
      "New lines can be created with a backslash and n.\n"
     ]
    }
   ],
   "source": [
    "# Correction of the error in the code above\n",
    "\n",
    "print(\"Day 1 - String Manipulation\")\n",
    "print(\"String Concatenation is done with the \" + \"+\" + \"sign.\")\n",
    "print('e.g. print(\"Hello \" + \"world\")')\n",
    "print(\"New lines can be created with a backslash and n.\")"
   ]
  },
  {
   "cell_type": "markdown",
   "metadata": {},
   "source": [
    "### Basic math operations"
   ]
  },
  {
   "cell_type": "code",
   "execution_count": 17,
   "metadata": {},
   "outputs": [
    {
     "name": "stdout",
     "output_type": "stream",
     "text": [
      "16\n",
      "5\n",
      "4\n",
      "2.0\n",
      "8\n"
     ]
    }
   ],
   "source": [
    "print(8+8) # Addition\n",
    "print(8-3) #Subtraction\n",
    "print(2*2) # Multiplication\n",
    "print(6/3) # Division\n",
    "print(2**3) # Exponents"
   ]
  },
  {
   "cell_type": "code",
   "execution_count": 35,
   "metadata": {},
   "outputs": [
    {
     "name": "stdout",
     "output_type": "stream",
     "text": [
      "You have 12418 days, 1768 weeks, 408 months left.\n"
     ]
    }
   ],
   "source": [
    "'''\n",
    "Create a program using maths and f-Strings that tells us how many days, weeks, months we have left if we live until 90 years old.\n",
    "It will take your current age as the input and output a message with our time left in this format:\n",
    "\n",
    "You have x days, y weeks, and z months left.\n",
    "Where x, y and z are replaced with the actual calculated numbers.\n",
    "'''\n",
    "\n",
    "my_age = int(input(\"How many years are you today: \"))\n",
    "no_years = (90 - my_age)\n",
    "no_months = no_years * 12\n",
    "no_weeks = no_years * 52\n",
    "no_days = ((no_years//4) * 366) + ((no_years - (no_years//4)) * 365)\n",
    "\n",
    "print(\"You have {no_days} days, {no_weeks} weeks, {no_months} months left.\")\n",
    "\n",
    "print(\"You have {} days, {} weeks, {} months left.\".format(no_days, no_weeks, no_months))\n"
   ]
  },
  {
   "cell_type": "markdown",
   "metadata": {},
   "source": [
    "### Conditional Statements\n",
    "- If\n",
    "- If...else\n",
    "- Nested if\n",
    "- If...else...if"
   ]
  },
  {
   "cell_type": "code",
   "execution_count": 41,
   "metadata": {},
   "outputs": [
    {
     "name": "stdout",
     "output_type": "stream",
     "text": [
      "3 is a positive number\n"
     ]
    }
   ],
   "source": [
    "num = 3\n",
    "\n",
    "if num > 0:\n",
    "    print(num, \"is a positive number\") # This would always be printed if the value of num is greater than 0\n"
   ]
  },
  {
   "cell_type": "code",
   "execution_count": 43,
   "metadata": {},
   "outputs": [
    {
     "name": "stdout",
     "output_type": "stream",
     "text": [
      "-4 is a negative number\n"
     ]
    }
   ],
   "source": [
    "# print two different statements for positive and negative numbers\n",
    "\n",
    "num = int(input(\"Please enter a number: \"))\n",
    "\n",
    "if num > 0:\n",
    "    print(num, \"is a positive number\")\n",
    "else:\n",
    "    print(num, \"is a negative number\")\n"
   ]
  },
  {
   "cell_type": "code",
   "execution_count": 44,
   "metadata": {},
   "outputs": [
    {
     "name": "stdout",
     "output_type": "stream",
     "text": [
      "-5 is an odd negative number\n"
     ]
    }
   ],
   "source": [
    "'''\n",
    "Print two different statements for positive even and odd \n",
    "as well as negative even and odd numbers\n",
    "'''\n",
    "\n",
    "num = eval(input(\"Enter a number: \"))\n",
    "\n",
    "if num > 0:\n",
    "    if num % 2 == 0:\n",
    "        print(num, \"is an even positive number.\")\n",
    "    else:\n",
    "        print(num, \"is an odd positive number\")\n",
    "else:\n",
    "    if num % 2 == 0:\n",
    "        print(num, \"is an even negative number.\")\n",
    "    else:\n",
    "        print(num, \"is an odd negative number\")"
   ]
  },
  {
   "cell_type": "code",
   "execution_count": 45,
   "metadata": {},
   "outputs": [
    {
     "name": "stdout",
     "output_type": "stream",
     "text": [
      "You entered 0\n"
     ]
    }
   ],
   "source": [
    "# Add a default to the previous code.\n",
    "\n",
    "num = eval(input(\"Enter a number: \"))\n",
    "\n",
    "if num > 0:\n",
    "    if num % 2 == 0:\n",
    "        print(num, \"is an even positive number.\")\n",
    "    else:\n",
    "        print(num, \"is an odd positive number\")\n",
    "elif num < 0:\n",
    "    if num % 2 == 0:\n",
    "        print(num, \"is an even negative number.\")\n",
    "    else:\n",
    "        print(num, \"is an odd negative number\")\n",
    "else:\n",
    "    print(\"You entered 0\")\n"
   ]
  },
  {
   "cell_type": "markdown",
   "metadata": {},
   "source": [
    "### Instructions :\n",
    "\n",
    "1. Create a variable called \"number\" and assign any integer value to it.\n",
    "2. Use an if-else statement to check if the number is even or odd. You can use the modulo operator (%), which returns the remainder of a division operation, to check if the number is divisible by 2. If the remainder is 0, the number is even, otherwise it is odd.\n",
    "3. You can also use logical operator \"and\" to check if the number is divisible by 2 and greater than 10.\n",
    "4. You can use logical operator \"or\" to check if the number is either divisible by 2 or greater than 10."
   ]
  },
  {
   "cell_type": "code",
   "execution_count": 48,
   "metadata": {},
   "outputs": [
    {
     "name": "stdout",
     "output_type": "stream",
     "text": [
      "67 is an odd number\n"
     ]
    }
   ],
   "source": [
    "number = int(input(\"Enter a number: \"))\n",
    "\n",
    "if number%2 == 0:\n",
    "    print(number, \"is an even number\")\n",
    "else:\n",
    "    print(number, \"is an odd number\")"
   ]
  },
  {
   "cell_type": "code",
   "execution_count": 51,
   "metadata": {},
   "outputs": [
    {
     "name": "stdout",
     "output_type": "stream",
     "text": [
      "67 is an odd number\n"
     ]
    }
   ],
   "source": [
    "if (number%2 == 0) and (number > 10):\n",
    "    print(number, \"is an even number greater than 10\")\n",
    "elif (number%2 == 0) and (number < 10):\n",
    "    print(number, \"is an even number less than 10\")\n",
    "else:\n",
    "    print(number, \"is an odd number\")"
   ]
  },
  {
   "cell_type": "code",
   "execution_count": 52,
   "metadata": {},
   "outputs": [
    {
     "name": "stdout",
     "output_type": "stream",
     "text": [
      "67 might be an even number or greater than 10\n"
     ]
    }
   ],
   "source": [
    "if (number%2 == 0) or (number > 10):\n",
    "    print(number, \"might be an even number or greater than 10\")\n",
    "else:\n",
    "    print(number, \"is neither and even number nor greater than 10\")"
   ]
  },
  {
   "cell_type": "code",
   "execution_count": 47,
   "metadata": {},
   "outputs": [
    {
     "name": "stdout",
     "output_type": "stream",
     "text": [
      "-49 is an even negative number.\n",
      "28 is an even positive number.\n",
      "-3 is an even negative number.\n",
      "You entered 0\n"
     ]
    }
   ],
   "source": [
    "my_lis = [int(each) for each in input(\"Please enter 5 numbers seperated by a comma: \").split(\",\")]\n",
    "\n",
    "for each in my_lis:\n",
    "    \n",
    "    if each > 0:\n",
    "        if each % 2 == 0:\n",
    "            print(each, \"is an even positive number.\")\n",
    "        else:\n",
    "            print(each, \"is an odd positive number\")\n",
    "    elif each < 0:\n",
    "        if num % 2 == 0:\n",
    "            print(each, \"is an even negative number.\")\n",
    "        else:\n",
    "            print(each, \"is an odd negative number\")\n",
    "    else:\n",
    "        print(\"You entered 0\")"
   ]
  },
  {
   "cell_type": "code",
   "execution_count": null,
   "metadata": {},
   "outputs": [],
   "source": []
  },
  {
   "cell_type": "code",
   "execution_count": null,
   "metadata": {},
   "outputs": [],
   "source": []
  }
 ],
 "metadata": {
  "kernelspec": {
   "display_name": "base",
   "language": "python",
   "name": "python3"
  },
  "language_info": {
   "codemirror_mode": {
    "name": "ipython",
    "version": 3
   },
   "file_extension": ".py",
   "mimetype": "text/x-python",
   "name": "python",
   "nbconvert_exporter": "python",
   "pygments_lexer": "ipython3",
   "version": "3.8.5"
  },
  "orig_nbformat": 2
 },
 "nbformat": 4,
 "nbformat_minor": 2
}
