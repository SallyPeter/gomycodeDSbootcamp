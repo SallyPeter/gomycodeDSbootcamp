{
 "cells": [
  {
   "cell_type": "markdown",
   "metadata": {},
   "source": [
    "### What You're Aiming For\n",
    "\n",
    "Create a program that allows the user to manage their shopping list. The user should be able to add items to the list, remove items, and view the current list of items.\n",
    "\n",
    "\n",
    "#### Instructions\n",
    "\n",
    "##### Statement:\n",
    "\n",
    "- Create a list to store the shopping items\n",
    "- Use a while loop to create a menu of options for the user to add, remove, or view items from the list\n",
    "- Use a for loop to iterate through the list of items and display them to the user\n",
    "- Use the range() function to limit the number of items that can be added to the list\n",
    "- Use the list, tuple, set, and dictionary data structures to store and manipulate the shopping items\n",
    "\n",
    "##### Instructions:\n",
    "\n",
    "- Create a list named 'shopping_list' to store the items.\n",
    "- Use a while loop to create a menu of options for the user to add, remove, or view items from the list.\n",
    "- Use the input() function to prompt the user to make a selection from the menu.\n",
    "- Use an if-elif-else block to determine the user's selection and perform the corresponding action.\n",
    "- If the user selects 'add', use the input() function to prompt the user to enter an item to add to the list.\n",
    "- Use the range() function to limit the number of items that can be added to the list.\n",
    "- If the user selects 'remove', use the input() function to prompt the user to enter an item to remove from the list.\n",
    "- If the user selects 'view', use a for loop to iterate through the list of items and display them to the user.\n",
    "- Use the list, tuple, set, and dictionary data structures to store and manipulate the shopping items."
   ]
  },
  {
   "cell_type": "code",
   "execution_count": null,
   "metadata": {},
   "outputs": [],
   "source": [
    "shopping_list = [] # Use of List"
   ]
  },
  {
   "cell_type": "code",
   "execution_count": 7,
   "metadata": {},
   "outputs": [
    {
     "name": "stdout",
     "output_type": "stream",
     "text": [
      "\n",
      "    What would you like to do:\n",
      "        A --- Add\n",
      "        R --- Remove\n",
      "        V --- View\n",
      "    \n",
      "You want to remove from the shopping list\n",
      "You have removed oil from your shopping list\n"
     ]
    }
   ],
   "source": [
    "\n",
    "\n",
    "\n",
    "while True:\n",
    "    print('''\n",
    "    What would you like to do:\n",
    "        A --- Add\n",
    "        R --- Remove\n",
    "        V --- View\n",
    "    ''')\n",
    "    \n",
    "    selection = input(\"\").lower()\n",
    "\n",
    "    if selection == 'a':\n",
    "        print(\"You want to add to the shopping list. \\nYou can only add up to five (5) items. \\n Enter 'q' to continue.\")\n",
    "        for i in range(0,5):\n",
    "            add_item = input(\"Please what do you want to add to the list: \").lower()\n",
    "            if add_item != 'q':\n",
    "                shopping_list.append(add_item)\n",
    "            else:\n",
    "                print(\"Thank you for updating your shopping list!\")\n",
    "                break\n",
    "        break\n",
    "\n",
    "    elif selection == 'r':\n",
    "        print(\"You want to remove from the shopping list\")\n",
    "        if len(shopping_list) != 0:\n",
    "            rem_item = input(\"Please what do you want to remove from the list: \").lower()\n",
    "            if rem_item in shopping_list:\n",
    "                shopping_list.remove(rem_item)\n",
    "                print(\"You have removed {} from your shopping list\".format(rem_item))\n",
    "                break\n",
    "            else:\n",
    "                print(\"You do not have {} in your shopping list\".format(rem_item))\n",
    "\n",
    "        else:\n",
    "            print(\"Your shopping list is empty!\")\n",
    "            break\n",
    "\n",
    "    elif selection.lower() == 'v':\n",
    "        print(\"Here are the items in the shopping list\")\n",
    "        if len(shopping_list) != 0:\n",
    "            for item in set(shopping_list): # Use of set\n",
    "                print(item)\n",
    "            break\n",
    "        else:\n",
    "            print(\"Your shopping list is empty!\")\n",
    "            break\n",
    "    else:\n",
    "        print(\"You entered a wrong value\")\n",
    "        break\n"
   ]
  },
  {
   "cell_type": "code",
   "execution_count": 19,
   "metadata": {},
   "outputs": [],
   "source": [
    "# Use of dictionary\n",
    "shopping_dict = {}\n",
    "\n",
    "for item in shopping_list:\n",
    "    if item in shopping_dict:\n",
    "        shopping_dict[item] += 1\n",
    "    else:\n",
    "        shopping_dict[item] = 1\n",
    "\n",
    "for item, count in shopping_dict.items():\n",
    "    print(item, '------', count)\n"
   ]
  },
  {
   "cell_type": "code",
   "execution_count": 40,
   "metadata": {},
   "outputs": [
    {
     "name": "stdout",
     "output_type": "stream",
     "text": [
      "\n",
      "    What would you like to do:\n",
      "        A --- Add\n",
      "        R --- Remove\n",
      "        V --- View\n",
      "    \n",
      "You want to remove from the shopping list\n",
      " Enter the item and quantity to remove -- Noodles,3\n",
      "You have removed beans\n"
     ]
    }
   ],
   "source": [
    "\n",
    "\n",
    "\n",
    "while True:\n",
    "    print('''\n",
    "    What would you like to do:\n",
    "        A --- Add\n",
    "        R --- Remove\n",
    "        V --- View\n",
    "    ''')\n",
    "    \n",
    "    selection = input(\"\").lower()\n",
    "\n",
    "    if selection == 'a':\n",
    "        print(\"\"\"You want to add to the shopping list. \n",
    "              You can only add up to five (5) items in the format \n",
    "              item,quantity \n",
    "              Noodles,13.\n",
    "\n",
    "              Enter 'q' to stop adding.\"\"\")\n",
    "        \n",
    "        for i in range(0,5):\n",
    "            add_item = input(\"Please what do you want to add to the list: \").lower()\n",
    "            if add_item != 'q':\n",
    "                if add_item.split(\",\")[0] in shopping_dict:\n",
    "                    shopping_dict[add_item.split(\",\")[0]] += int(add_item.split(\",\")[1])\n",
    "                else:\n",
    "                    shopping_dict[add_item.split(\",\")[0]] = int(add_item.split(\",\")[1])\n",
    "            else:\n",
    "                print(\"Thank you for your patronage\")\n",
    "                break\n",
    "        break\n",
    "\n",
    "    elif selection == 'r':\n",
    "        print(\"You want to remove from the shopping list\\n Enter the item and quantity to remove -- Noodles,3\")\n",
    "        if len(shopping_dict) !=0:\n",
    "            rem_item = input(\"Please what do you want to remove from the list: \").lower()\n",
    "            if rem_item.split(\",\")[0] in shopping_dict.keys():\n",
    "                try:\n",
    "                    if (shopping_dict[rem_item.split(\",\")[0]] - int(rem_item.split(\",\")[1])) == 0:\n",
    "                        shopping_dict.pop(rem_item.split(\",\")[0])\n",
    "                        print(\"You have removed {}\".format(rem_item.split(\",\")[0]))\n",
    "                    elif (shopping_dict[rem_item.split(\",\")[0]] - int(rem_item.split(\",\")[1])) <= 0:\n",
    "                        print(f\"You only have {shopping_dict[rem_item.split(',')[0]]} quantity(ies) of {rem_item.split(',')[0]}\")\n",
    "                    else:\n",
    "                        shopping_dict[rem_item.split(\",\")[0]]  -= int(rem_item.split(\",\")[1])\n",
    "                        print(\"You have removed {} quantity(ies) of {}\".format(rem_item.split(\",\")[1], rem_item.split(\",\")[0]))\n",
    "                    break\n",
    "                except IndexError:\n",
    "                    if (shopping_dict[rem_item.split(\",\")[0]] - 1) == 0:\n",
    "                        shopping_dict.pop(rem_item.split(\",\")[0])\n",
    "                        print(\"You have removed {}\".format(rem_item.split(\",\")[0]))\n",
    "                    elif (shopping_dict[rem_item.split(\",\")[0]] - 1) <= 0:\n",
    "                        print(f\"You only have {shopping_dict[rem_item.split(',')[0]]} quantity(ies) of {rem_item.split(',')[0]}\")\n",
    "                    else:\n",
    "                        shopping_dict[rem_item.split(\",\")[0]] -=1\n",
    "                        print(\"You have removed 1 quantity of {}\".format(rem_item.split(\",\")[0]))\n",
    "                    break\n",
    "            else:\n",
    "                print(\"You do not have {} in your shopping list\".format(rem_item.split(\",\")[0]))\n",
    "                break\n",
    "        else:\n",
    "            print(\"Your shopping list is empty!\")\n",
    "            break\n",
    "\n",
    "    elif selection.lower() == 'v':\n",
    "        print(\"Here are the items in the shopping list\")\n",
    "        if len(shopping_dict) !=0:\n",
    "            for item, count in shopping_dict.items():\n",
    "                print(' '*4, item.capitalize(), '------', count)\n",
    "            break\n",
    "        else:\n",
    "            print(\"Your shopping list is empty!\")\n",
    "            break\n",
    "    else:\n",
    "        print(\"You entered a wrong value\")\n",
    "        break"
   ]
  },
  {
   "cell_type": "code",
   "execution_count": 41,
   "metadata": {},
   "outputs": [
    {
     "data": {
      "text/plain": [
       "{'rice': 4, 'fruit': 8, 'avocado': 3}"
      ]
     },
     "execution_count": 41,
     "metadata": {},
     "output_type": "execute_result"
    }
   ],
   "source": [
    "shopping_dict"
   ]
  },
  {
   "cell_type": "code",
   "execution_count": 34,
   "metadata": {},
   "outputs": [
    {
     "data": {
      "text/plain": [
       "{'rice': 7, 'beans': 4, 'fruit': 8, 'avocado': 4}"
      ]
     },
     "execution_count": 34,
     "metadata": {},
     "output_type": "execute_result"
    }
   ],
   "source": [
    "shopping_dict.pop('oil')\n",
    "shopping_dict"
   ]
  },
  {
   "cell_type": "code",
   "execution_count": null,
   "metadata": {},
   "outputs": [],
   "source": []
  }
 ],
 "metadata": {
  "kernelspec": {
   "display_name": "base",
   "language": "python",
   "name": "python3"
  },
  "language_info": {
   "codemirror_mode": {
    "name": "ipython",
    "version": 3
   },
   "file_extension": ".py",
   "mimetype": "text/x-python",
   "name": "python",
   "nbconvert_exporter": "python",
   "pygments_lexer": "ipython3",
   "version": "3.8.5"
  }
 },
 "nbformat": 4,
 "nbformat_minor": 2
}
