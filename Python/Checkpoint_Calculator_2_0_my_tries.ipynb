{
  "nbformat": 4,
  "nbformat_minor": 0,
  "metadata": {
    "colab": {
      "provenance": [],
      "authorship_tag": "ABX9TyOx4zvmZM2l9FtQnHRQjTod",
      "include_colab_link": true
    },
    "kernelspec": {
      "name": "python3",
      "display_name": "Python 3"
    },
    "language_info": {
      "name": "python"
    }
  },
  "cells": [
    {
      "cell_type": "markdown",
      "metadata": {
        "id": "view-in-github",
        "colab_type": "text"
      },
      "source": [
        "<a href=\"https://colab.research.google.com/github/SallyPeter/gomycodeDSbootcamp/blob/main/Python/Checkpoint_Calculator_2_0_my_tries.ipynb\" target=\"_parent\"><img src=\"https://colab.research.google.com/assets/colab-badge.svg\" alt=\"Open In Colab\"/></a>"
      ]
    },
    {
      "cell_type": "markdown",
      "source": [
        "**What You're Aiming For**\n",
        "\n",
        "*In this exercise, you will expand on the basic calculator program by adding more advanced mathematical operations and error handling using object-oriented programming.*\n",
        "\n",
        "\n",
        "**Instructions**\n",
        "\n",
        "1. Create a new file called \"calculator_2.0.py\"\n",
        "2. Create a class called \"Calculator\" that contains the following:\n",
        "3. A dictionary attribute to store the available mathematical operations and their corresponding functions\n",
        "4. A method called \"init\" that initializes the dictionary with the basic mathematical operations (+, -, *, /) and corresponding functions\n",
        "5. A method called \"add_operation\" that takes in two arguments: the operation symbol and the corresponding function. This method should add the new operation and function to the dictionary.\n",
        "6. A method called \"calculate\" that takes in three arguments: the first number, the operation symbol, and the second number. This method should use the dictionary to determine the appropriate function to perform the calculation. It should also include error handling to check if the operation symbol is valid and if the input values are numbers. If an error is encountered, the method should print an error message and raise an exception.\n",
        "7. Create separate functions for the advanced mathematical operations (exponentiation, square root, logarithm) and use the \"add_operation\" method to add them to the calculator's dictionary.\n",
        "8. In the main program, create an instance of the Calculator class, and use a while loop that allows the user to continue performing calculations until they choose to exit.\n",
        "9. Use the input() function to get input from the user for the numbers and operation symbol.Use the math library for advanced mathematical operations\n",
        "10. Use the isinstance() function to check if the input is a number."
      ],
      "metadata": {
        "id": "DFsoD0W01_m3"
      }
    },
    {
      "cell_type": "markdown",
      "source": [
        "*This checkpoint was done with a bit of help from chat GPT as I had some issues understanding the instructions.*"
      ],
      "metadata": {
        "id": "2TrhLpbR4IGu"
      }
    },
    {
      "cell_type": "code",
      "source": [
        "class Calculator(): #Create a class called \"Calculator\"\n",
        "\n",
        "  def __init__(self): #A method called \"init\" that initializes the dictionary with the basic mathematical operations (+, -, *, /) and corresponding functions\n",
        "    # A dictionary attribute to store the available mathematical operations and their corresponding functions\n",
        "    self.available_operations = {'+': self.add,\n",
        "                                                        '-': self.subtract,\n",
        "                                                        '*': self.multiply,\n",
        "                                                        '/': self.divide}\n",
        "    # A method called \"add_operation\" that takes in two arguments: the operation symbol and the corresponding function. This method should add the new operation and function to the dictionary.\n",
        "\n",
        "  def add_operation(self, op_symbol, func):\n",
        "    self.available_operations[op_symbol] = func\n",
        "\n",
        "  '''A method called \"calculate\" that takes in three arguments: the first number, the operation symbol, and the second number.\n",
        "  This method should use the dictionary to determine the appropriate function to perform the calculation.\n",
        "  It should also include error handling to check if the operation symbol is valid and if the input values are numbers.\n",
        "  If an error is encountered, the method should print an error message and raise an exception.'''\n",
        "\n",
        "  def calculate(self, first_num, op_symbol, sec_num):\n",
        "\n",
        "    if op_symbol in self.available_operations.keys():\n",
        "\n",
        "      if isinstance(first_num, float) and isinstance(sec_num, float):\n",
        "        return self.available_operations[op_symbol](first_num, sec_num)\n",
        "      else:\n",
        "        print(f\"{first_num} or {sec_num} is not a number\")\n",
        "        raise ValueError(\"Both arguments are expected to be numbers\")\n",
        "\n",
        "    else:\n",
        "      print(f'{op_symbol} is not available at the moment!')\n",
        "      raise ValueError(f\"Available operators are {self.available_operations.keys()}\")\n",
        "\n",
        "  # Not mentioned in the instructions though, but I suppose each of the functions in the basic operator is expected to be defined within the class\n",
        "\n",
        "  def add(self, first_num, sec_num):\n",
        "    return first_num + sec_num\n",
        "\n",
        "  def subtract(self, first_num, sec_num):\n",
        "    return first_num - sec_num\n",
        "\n",
        "  def multiply(self, first_num, sec_num):\n",
        "    return first_num * sec_num\n",
        "\n",
        "  def divide(self, first_num, sec_num):\n",
        "    if sec_num == 0:\n",
        "      raise ZeroDivisionError(\"Division by 0\")\n",
        "    return first_num / sec_num\n",
        "\n",
        "\n",
        "\n"
      ],
      "metadata": {
        "id": "oRXdc2DT2Yyy"
      },
      "execution_count": 24,
      "outputs": []
    },
    {
      "cell_type": "code",
      "source": [
        "# Create separate functions for the advanced mathematical operations (exponentiation, square root, logarithm) and use the \"add_operation\" method to add them to the calculator's dictionary.\n",
        "\n",
        "def exponent(first_num, sec_num):\n",
        "  return first_num ** sec_num\n",
        "\n",
        "def sq_rt(first_num,  _):\n",
        "  if first_num <= 0:\n",
        "    print(\"Square root of a negative number\")\n",
        "    raise ValueError(\"Square Root of a negative number not allowed!\")\n",
        "  return math.sqrt(first_num)\n",
        "\n",
        "def log(first_num, sec_num):\n",
        "  if first_num <= 0 or sec_num <= 0:\n",
        "    print(\"Values are less than 0\")\n",
        "    raise ValueError(\"Log of a negative number or 0  not allowed!\")\n",
        "  return math.log(first_num, sec_num)\n",
        "\n"
      ],
      "metadata": {
        "id": "qZI0b0MlpC84"
      },
      "execution_count": 25,
      "outputs": []
    },
    {
      "cell_type": "code",
      "source": [
        "# In the main program, create an instance of the Calculator class, and use a while loop that allows the user to continue performing calculations until they choose to exit.\n",
        "# Use the input() function to get input from the user for the numbers and operation symbol.Use the math library for advanced mathematical operations\n",
        "\n",
        "# if __name__ == __main__:\n",
        "def main():\n",
        "  calculator = Calculator()\n",
        "\n",
        "  ad_operations = {'^': exponent, 'sqrt': sq_rt, 'log':log }\n",
        "\n",
        "  for k,v in ad_operations.items():\n",
        "   calculator.add_operation(k,v)\n",
        "\n",
        "  while True:\n",
        "    try:\n",
        "\n",
        "      print(\"The available operations in this calculator are +, -, *, /, ^, sqrt and log. \\nEnsure to use the symbols as shown above. \\nEnter 'exit' to exit the program.\")\n",
        "\n",
        "      first_num = input(\"Enter your first value: \")\n",
        "\n",
        "      if first_num.lower() == 'exit':\n",
        "        break\n",
        "      else:\n",
        "        operator = input(\"Enter the operator you want to use: \")\n",
        "        if operator == 'sqrt':\n",
        "         result = calculator.calculate(float(first_num), operator, None)\n",
        "        else:\n",
        "          sec_num = input(\"Enter your second value: \")\n",
        "          result = calculator.calculate(float(first_num), operator, float(sec_num))\n",
        "\n",
        "      print(f\"The result is: {result}\")\n",
        "\n",
        "    except ValueError:\n",
        "      print(\"Error: ValueError\")\n",
        "    except ZeroDivisionError:\n",
        "      print(\"Error: ZeroDivisionError\")\n"
      ],
      "metadata": {
        "id": "4rIU_svQpC5Q"
      },
      "execution_count": 28,
      "outputs": []
    },
    {
      "cell_type": "code",
      "source": [
        "# @title Default title text\n",
        "import math\n",
        "\n",
        "main()"
      ],
      "metadata": {
        "id": "KcfZcQFA2Yv6",
        "colab": {
          "base_uri": "https://localhost:8080/"
        },
        "outputId": "1dcef77c-cd31-4e01-bc32-4f1c0eb8fff8"
      },
      "execution_count": 29,
      "outputs": [
        {
          "name": "stdout",
          "output_type": "stream",
          "text": [
            "The available operations in this calculator are +, -, *, /, ^, sqrt and log. \n",
            "Ensure to use the symbols as shown above. \n",
            "Enter 'exit' to exit the program.\n",
            "Enter your first value: 5\n",
            "Enter the operator you want to use: 6\n",
            "Enter your second value: 7\n",
            "6 is not available at the moment!\n",
            "Error: ValueError\n",
            "The available operations in this calculator are +, -, *, /, ^, sqrt and log. \n",
            "Ensure to use the symbols as shown above. \n",
            "Enter 'exit' to exit the program.\n",
            "Enter your first value: 5\n",
            "Enter the operator you want to use: -\n",
            "Enter your second value: 7\n",
            "The result is: -2.0\n",
            "The available operations in this calculator are +, -, *, /, ^, sqrt and log. \n",
            "Ensure to use the symbols as shown above. \n",
            "Enter 'exit' to exit the program.\n",
            "Enter your first value: 4\n",
            "Enter the operator you want to use: ^\n",
            "Enter your second value: 8\n",
            "The result is: 65536.0\n",
            "The available operations in this calculator are +, -, *, /, ^, sqrt and log. \n",
            "Ensure to use the symbols as shown above. \n",
            "Enter 'exit' to exit the program.\n",
            "Enter your first value: 6\n",
            "Enter the operator you want to use: y\n",
            "Enter your second value: 7\n",
            "y is not available at the moment!\n",
            "Error: ValueError\n",
            "The available operations in this calculator are +, -, *, /, ^, sqrt and log. \n",
            "Ensure to use the symbols as shown above. \n",
            "Enter 'exit' to exit the program.\n",
            "Enter your first value: g\n",
            "Enter the operator you want to use: 8\n",
            "Enter your second value: y\n",
            "Error: ValueError\n",
            "The available operations in this calculator are +, -, *, /, ^, sqrt and log. \n",
            "Ensure to use the symbols as shown above. \n",
            "Enter 'exit' to exit the program.\n",
            "Enter your first value: exit\n"
          ]
        }
      ]
    },
    {
      "cell_type": "code",
      "source": [],
      "metadata": {
        "id": "a4oIIJ4Vz4mH"
      },
      "execution_count": null,
      "outputs": []
    },
    {
      "cell_type": "code",
      "source": [],
      "metadata": {
        "id": "xLVCNt81z4ik"
      },
      "execution_count": null,
      "outputs": []
    },
    {
      "cell_type": "code",
      "execution_count": null,
      "metadata": {
        "id": "-aXdVsnk00OL"
      },
      "outputs": [],
      "source": [
        "## Initial idea before Chat GPT' help\n",
        "\n",
        "# class Calculator():\n",
        "#   def __init__(self, name, memory={}):\n",
        "#     self.name = name\n",
        "#     self.memory = memory\n",
        "\n",
        "#   # add the functions for add, sub, divide and mult\n",
        "#   def basic(operator, value_1, value_2):\n",
        "#     if operator == '+':\n",
        "#       result = value_1 +value_2\n",
        "#       add_operation(operator, value_1, value_2, result)\n",
        "#     elif operator == '-':\n",
        "#       result = value_1 - value_2\n",
        "#       add_operation(operator, value_1, value_2, result)\n",
        "#     elif operator == '*':\n",
        "#       result = value_1 * value_2\n",
        "#       add_operation(operator, value_1, value_2, result)\n",
        "#     elif operator == '/':\n",
        "#       result = value_1/value_2\n",
        "#       add_operation(operator, value_1, value_2, result)\n",
        "#     else:\n",
        "#       print('This is not a basic operator')\n",
        "\n",
        "#     return result\n",
        "\n",
        "#   def add_operation(self, operator, value_1, value_2, result ): # this should work as a memory to store all the operations the calculator class has performed\n",
        "#     if len(self.memory) == 0:\n",
        "#       self.memory[1] =  (f'{value_1} {operator} {value_2} = {result}')\n",
        "\n",
        "#     else:\n",
        "#       next_ind = list(self.memory.keys())[-1] + 1\n",
        "#       self.memory[next_ind] = (f'{value_1} {operator} {value_2} = {result}')\n",
        "\n",
        "#     for key, value in self.memory.items():\n",
        "#       print(f'{key} --- {value}')\n",
        "\n",
        "\n",
        "\n",
        "#   def advanced(self, operator, value_1, value_2):\n",
        "#     pass\n",
        "\n",
        "\n"
      ]
    },
    {
      "cell_type": "code",
      "source": [
        "# ## Chat GPT\n",
        "\n",
        "# import math\n",
        "\n",
        "# # Define the Calculator class\n",
        "# class Calculator:\n",
        "#     def __init__(self):\n",
        "#         # Initialize the dictionary with basic operations\n",
        "#         self.operations = {\n",
        "#             '+': self.add,\n",
        "#             '-': self.subtract,\n",
        "#             '*': self.multiply,\n",
        "#             '/': self.divide\n",
        "#         }\n",
        "\n",
        "#     # Method to add new operations to the calculator\n",
        "#     def add_operation(self, symbol, func):\n",
        "#         self.operations[symbol] = func\n",
        "\n",
        "#     # Method to perform the calculation based on the operation symbol\n",
        "#     def calculate(self, num1, operation, num2):\n",
        "#         # Validate if operation exists\n",
        "#         if operation not in self.operations:\n",
        "#             print(f\"Error: Operation '{operation}' is not supported.\")\n",
        "#             raise ValueError(f\"Unsupported operation: {operation}\")\n",
        "\n",
        "#         # Validate if inputs are numbers\n",
        "#         if not isinstance(num1, (int, float)) or not isinstance(num2, (int, float)):\n",
        "#             print(\"Error: Both inputs must be numbers.\")\n",
        "#             raise ValueError(\"Inputs must be numbers.\")\n",
        "\n",
        "#         # Perform the operation\n",
        "#         return self.operations[operation](num1, num2)\n",
        "\n",
        "#     # Basic operations\n",
        "#     def add(self, a, b):\n",
        "#         return a + b\n",
        "\n",
        "#     def subtract(self, a, b):\n",
        "#         return a - b\n",
        "\n",
        "#     def multiply(self, a, b):\n",
        "#         return a * b\n",
        "\n",
        "#     def divide(self, a, b):\n",
        "#         if b == 0:\n",
        "#             print(\"Error: Division by zero is not allowed.\")\n",
        "#             raise ZeroDivisionError(\"Division by zero\")\n",
        "#         return a / b\n",
        "\n",
        "# # Advanced mathematical operations\n",
        "# def exponentiation(a, b):\n",
        "#     return a ** b\n",
        "\n",
        "# def square_root(a, _):\n",
        "#     if a < 0:\n",
        "#         print(\"Error: Cannot calculate the square root of a negative number.\")\n",
        "#         raise ValueError(\"Square root of negative number\")\n",
        "#     return math.sqrt(a)\n",
        "\n",
        "# def logarithm(a, b):\n",
        "#     if a <= 0 or b <= 0:\n",
        "#         print(\"Error: Logarithm arguments must be positive.\")\n",
        "#         raise ValueError(\"Logarithm of non-positive number\")\n",
        "#     return math.log(a, b)\n",
        "\n",
        "# # Main program logic\n",
        "# if __name__ == \"__main__\":\n",
        "#     calc = Calculator()\n",
        "\n",
        "#     # Add advanced operations\n",
        "#     calc.add_operation('^', exponentiation)\n",
        "#     calc.add_operation('sqrt', square_root)\n",
        "#     calc.add_operation('log', logarithm)\n",
        "\n",
        "#     # Start the calculator loop\n",
        "#     while True:\n",
        "#         print(\"\\nAvailable operations: +, -, *, /, ^ (exponentiation), sqrt (square root), log (logarithm)\")\n",
        "#         try:\n",
        "#             # Get inputs from the user\n",
        "#             first_num = input(\"Enter the first number (or 'exit' to quit): \")\n",
        "#             if first_num.lower() == 'exit':\n",
        "#                 break\n",
        "#             first_num = float(first_num)\n",
        "\n",
        "#             operation = input(\"Enter an operation symbol: \")\n",
        "\n",
        "#             # For sqrt, we only need one number\n",
        "#             if operation == 'sqrt':\n",
        "#                 result = calc.calculate(first_num, operation, None)\n",
        "#             else:\n",
        "#                 second_num = input(\"Enter the second number: \")\n",
        "#                 second_num = float(second_num)\n",
        "#                 result = calc.calculate(first_num, operation, second_num)\n",
        "\n",
        "#             print(f\"The result is: {result}\")\n",
        "\n",
        "#         except ValueError as ve:\n",
        "#             print(f\"Error: {ve}\")\n",
        "#         except ZeroDivisionError as zde:\n",
        "#             print(f\"Error: {zde}\")\n"
      ],
      "metadata": {
        "id": "EZICJFvC2Ytm",
        "colab": {
          "base_uri": "https://localhost:8080/",
          "height": 209
        },
        "outputId": "f5e1f961-1f8e-441a-e0af-5763a553cd28"
      },
      "execution_count": null,
      "outputs": [
        {
          "output_type": "execute_result",
          "data": {
            "text/plain": [
              "pink     1\n",
              "white    2\n",
              "black    3\n",
              "blue     4\n",
              "dtype: int64"
            ],
            "text/html": [
              "<div>\n",
              "<style scoped>\n",
              "    .dataframe tbody tr th:only-of-type {\n",
              "        vertical-align: middle;\n",
              "    }\n",
              "\n",
              "    .dataframe tbody tr th {\n",
              "        vertical-align: top;\n",
              "    }\n",
              "\n",
              "    .dataframe thead th {\n",
              "        text-align: right;\n",
              "    }\n",
              "</style>\n",
              "<table border=\"1\" class=\"dataframe\">\n",
              "  <thead>\n",
              "    <tr style=\"text-align: right;\">\n",
              "      <th></th>\n",
              "      <th>0</th>\n",
              "    </tr>\n",
              "  </thead>\n",
              "  <tbody>\n",
              "    <tr>\n",
              "      <th>pink</th>\n",
              "      <td>1</td>\n",
              "    </tr>\n",
              "    <tr>\n",
              "      <th>white</th>\n",
              "      <td>2</td>\n",
              "    </tr>\n",
              "    <tr>\n",
              "      <th>black</th>\n",
              "      <td>3</td>\n",
              "    </tr>\n",
              "    <tr>\n",
              "      <th>blue</th>\n",
              "      <td>4</td>\n",
              "    </tr>\n",
              "  </tbody>\n",
              "</table>\n",
              "</div><br><label><b>dtype:</b> int64</label>"
            ]
          },
          "metadata": {},
          "execution_count": 3
        }
      ]
    },
    {
      "cell_type": "code",
      "source": [
        "5.lower() == 'exit'"
      ],
      "metadata": {
        "id": "lDksJFNMWYkN",
        "colab": {
          "base_uri": "https://localhost:8080/",
          "height": 106
        },
        "outputId": "f31613c2-38cf-47fb-ee0e-c3e6c89f16a9"
      },
      "execution_count": null,
      "outputs": [
        {
          "output_type": "error",
          "ename": "SyntaxError",
          "evalue": "invalid decimal literal (<ipython-input-6-5cbadacca4e5>, line 1)",
          "traceback": [
            "\u001b[0;36m  File \u001b[0;32m\"<ipython-input-6-5cbadacca4e5>\"\u001b[0;36m, line \u001b[0;32m1\u001b[0m\n\u001b[0;31m    5.lower() == 'exit'\u001b[0m\n\u001b[0m     ^\u001b[0m\n\u001b[0;31mSyntaxError\u001b[0m\u001b[0;31m:\u001b[0m invalid decimal literal\n"
          ]
        }
      ]
    },
    {
      "cell_type": "code",
      "source": [],
      "metadata": {
        "id": "FeHcBudTtruW"
      },
      "execution_count": null,
      "outputs": []
    },
    {
      "cell_type": "code",
      "source": [],
      "metadata": {
        "id": "VDmupj-MxPIY"
      },
      "execution_count": null,
      "outputs": []
    }
  ]
}