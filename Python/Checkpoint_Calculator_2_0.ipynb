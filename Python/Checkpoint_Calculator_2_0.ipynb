{
  "nbformat": 4,
  "nbformat_minor": 0,
  "metadata": {
    "colab": {
      "provenance": [],
      "authorship_tag": "ABX9TyP3rh5cDeqBEmd3RKggI4WE",
      "include_colab_link": true
    },
    "kernelspec": {
      "name": "python3",
      "display_name": "Python 3"
    },
    "language_info": {
      "name": "python"
    }
  },
  "cells": [
    {
      "cell_type": "markdown",
      "metadata": {
        "id": "view-in-github",
        "colab_type": "text"
      },
      "source": [
        "<a href=\"https://colab.research.google.com/github/SallyPeter/gomycodeDSbootcamp/blob/main/Python/Checkpoint_Calculator_2_0.ipynb\" target=\"_parent\"><img src=\"https://colab.research.google.com/assets/colab-badge.svg\" alt=\"Open In Colab\"/></a>"
      ]
    },
    {
      "cell_type": "markdown",
      "source": [
        "**What You're Aiming For**\n",
        "\n",
        "*In this exercise, you will expand on the basic calculator program by adding more advanced mathematical operations and error handling using object-oriented programming.*\n",
        "\n",
        "\n",
        "**Instructions**\n",
        "\n",
        "1. Create a new file called \"calculator_2.0.py\"\n",
        "2. Create a class called \"Calculator\" that contains the following:\n",
        "3. A dictionary attribute to store the available mathematical operations and their corresponding functions\n",
        "4. A method called \"init\" that initializes the dictionary with the basic mathematical operations (+, -, *, /) and corresponding functions\n",
        "5. A method called \"add_operation\" that takes in two arguments: the operation symbol and the corresponding function. This method should add the new operation and function to the dictionary.\n",
        "6. A method called \"calculate\" that takes in three arguments: the first number, the operation symbol, and the second number. This method should use the dictionary to determine the appropriate function to perform the calculation. It should also include error handling to check if the operation symbol is valid and if the input values are numbers. If an error is encountered, the method should print an error message and raise an exception.\n",
        "7. Create separate functions for the advanced mathematical operations (exponentiation, square root, logarithm) and use the \"add_operation\" method to add them to the calculator's dictionary.\n",
        "8. In the main program, create an instance of the Calculator class, and use a while loop that allows the user to continue performing calculations until they choose to exit.\n",
        "9. Use the input() function to get input from the user for the numbers and operation symbol.Use the math library for advanced mathematical operations\n",
        "10. Use the isinstance() function to check if the input is a number."
      ],
      "metadata": {
        "id": "iCFl88fw3e-p"
      }
    },
    {
      "cell_type": "markdown",
      "source": [
        "*This checkpoint was done with a bit of help from chat GPT as I had some issues understanding the instructions.*"
      ],
      "metadata": {
        "id": "dpstUdjB3knY"
      }
    },
    {
      "cell_type": "code",
      "source": [
        "class Calculator(): #Create a class called \"Calculator\"\n",
        "\n",
        "  def __init__(self): #A method called \"init\" that initializes the dictionary with the basic mathematical operations (+, -, *, /) and corresponding functions\n",
        "    # A dictionary attribute to store the available mathematical operations and their corresponding functions\n",
        "    self.available_operations = {'+': self.add,\n",
        "                                                        '-': self.subtract,\n",
        "                                                        '*': self.multiply,\n",
        "                                                        '/': self.divide}\n",
        "    # A method called \"add_operation\" that takes in two arguments: the operation symbol and the corresponding function. This method should add the new operation and function to the dictionary.\n",
        "\n",
        "  def add_operation(self, op_symbol, func):\n",
        "    self.available_operations[op_symbol] = func\n",
        "\n",
        "  '''A method called \"calculate\" that takes in three arguments: the first number, the operation symbol, and the second number.\n",
        "  This method should use the dictionary to determine the appropriate function to perform the calculation.\n",
        "  It should also include error handling to check if the operation symbol is valid and if the input values are numbers.\n",
        "  If an error is encountered, the method should print an error message and raise an exception.'''\n",
        "\n",
        "  def calculate(self, first_num, op_symbol, sec_num):\n",
        "\n",
        "    if op_symbol in self.available_operations.keys():\n",
        "\n",
        "      if isinstance(first_num, float) and isinstance(sec_num, float):\n",
        "        return self.available_operations[op_symbol](first_num, sec_num)\n",
        "      else:\n",
        "        print(f\"{first_num} or {sec_num} is not a number\")\n",
        "        raise ValueError(\"Both arguments are expected to be numbers\")\n",
        "\n",
        "    else:\n",
        "      print(f'{op_symbol} is not available at the moment!')\n",
        "      raise ValueError(f\"Available operators are {self.available_operations.keys()}\")\n",
        "\n",
        "  # Not mentioned in the instructions though, but I suppose each of the functions in the basic operator is expected to be defined within the class\n",
        "\n",
        "  def add(self, first_num, sec_num):\n",
        "    return first_num + sec_num\n",
        "\n",
        "  def subtract(self, first_num, sec_num):\n",
        "    return first_num - sec_num\n",
        "\n",
        "  def multiply(self, first_num, sec_num):\n",
        "    return first_num * sec_num\n",
        "\n",
        "  def divide(self, first_num, sec_num):\n",
        "    if sec_num == 0:\n",
        "      raise ZeroDivisionError(\"Division by 0\")\n",
        "    return first_num / sec_num\n",
        "\n",
        "\n",
        "\n"
      ],
      "metadata": {
        "id": "oRXdc2DT2Yyy"
      },
      "execution_count": null,
      "outputs": []
    },
    {
      "cell_type": "code",
      "source": [
        "# Create separate functions for the advanced mathematical operations (exponentiation, square root, logarithm) and use the \"add_operation\" method to add them to the calculator's dictionary.\n",
        "\n",
        "def exponent(first_num, sec_num):\n",
        "  return first_num ** sec_num\n",
        "\n",
        "def sq_rt(first_num,  _):\n",
        "  if first_num <= 0:\n",
        "    print(\"Square root of a negative number\")\n",
        "    raise ValueError(\"Square Root of a negative number not allowed!\")\n",
        "  return math.sqrt(first_num)\n",
        "\n",
        "def log(first_num, sec_num):\n",
        "  if first_num <= 0 or sec_num <= 0:\n",
        "    print(\"Values are less than 0\")\n",
        "    raise ValueError(\"Log of a negative number or 0  not allowed!\")\n",
        "  return math.log(first_num, sec_num)\n",
        "\n"
      ],
      "metadata": {
        "id": "qZI0b0MlpC84"
      },
      "execution_count": null,
      "outputs": []
    },
    {
      "cell_type": "code",
      "source": [
        "# In the main program, create an instance of the Calculator class, and use a while loop that allows the user to continue performing calculations until they choose to exit.\n",
        "# Use the input() function to get input from the user for the numbers and operation symbol.Use the math library for advanced mathematical operations\n",
        "\n",
        "# if __name__ == __main__:\n",
        "def main():\n",
        "  calculator = Calculator()\n",
        "\n",
        "  ad_operations = {'^': exponent, 'sqrt': sq_rt, 'log':log }\n",
        "\n",
        "  for k,v in ad_operations.items():\n",
        "   calculator.add_operation(k,v)\n",
        "\n",
        "  while True:\n",
        "    try:\n",
        "\n",
        "      print(\"The available operations in this calculator are +, -, *, /, ^, sqrt and log. \\nEnsure to use the symbols as shown above. \\nEnter 'exit' to exit the program.\")\n",
        "\n",
        "      first_num = input(\"Enter your first value: \")\n",
        "\n",
        "      if first_num.lower() == 'exit':\n",
        "        break\n",
        "      else:\n",
        "        operator = input(\"Enter the operator you want to use: \")\n",
        "        if operator == 'sqrt':\n",
        "         result = calculator.calculate(float(first_num), operator, None)\n",
        "        else:\n",
        "          sec_num = input(\"Enter your second value: \")\n",
        "          result = calculator.calculate(float(first_num), operator, float(sec_num))\n",
        "\n",
        "      print(f\"The result is: {result}\")\n",
        "\n",
        "    except ValueError:\n",
        "      print(\"Error: ValueError\")\n",
        "    except ZeroDivisionError:\n",
        "      print(\"Error: ZeroDivisionError\")\n"
      ],
      "metadata": {
        "id": "4rIU_svQpC5Q"
      },
      "execution_count": null,
      "outputs": []
    },
    {
      "cell_type": "code",
      "source": [
        "# @title Default title text\n",
        "import math\n",
        "\n",
        "main()"
      ],
      "metadata": {
        "id": "KcfZcQFA2Yv6",
        "colab": {
          "base_uri": "https://localhost:8080/"
        },
        "outputId": "1dcef77c-cd31-4e01-bc32-4f1c0eb8fff8"
      },
      "execution_count": null,
      "outputs": [
        {
          "name": "stdout",
          "output_type": "stream",
          "text": [
            "The available operations in this calculator are +, -, *, /, ^, sqrt and log. \n",
            "Ensure to use the symbols as shown above. \n",
            "Enter 'exit' to exit the program.\n",
            "Enter your first value: 5\n",
            "Enter the operator you want to use: 6\n",
            "Enter your second value: 7\n",
            "6 is not available at the moment!\n",
            "Error: ValueError\n",
            "The available operations in this calculator are +, -, *, /, ^, sqrt and log. \n",
            "Ensure to use the symbols as shown above. \n",
            "Enter 'exit' to exit the program.\n",
            "Enter your first value: 5\n",
            "Enter the operator you want to use: -\n",
            "Enter your second value: 7\n",
            "The result is: -2.0\n",
            "The available operations in this calculator are +, -, *, /, ^, sqrt and log. \n",
            "Ensure to use the symbols as shown above. \n",
            "Enter 'exit' to exit the program.\n",
            "Enter your first value: 4\n",
            "Enter the operator you want to use: ^\n",
            "Enter your second value: 8\n",
            "The result is: 65536.0\n",
            "The available operations in this calculator are +, -, *, /, ^, sqrt and log. \n",
            "Ensure to use the symbols as shown above. \n",
            "Enter 'exit' to exit the program.\n",
            "Enter your first value: 6\n",
            "Enter the operator you want to use: y\n",
            "Enter your second value: 7\n",
            "y is not available at the moment!\n",
            "Error: ValueError\n",
            "The available operations in this calculator are +, -, *, /, ^, sqrt and log. \n",
            "Ensure to use the symbols as shown above. \n",
            "Enter 'exit' to exit the program.\n",
            "Enter your first value: g\n",
            "Enter the operator you want to use: 8\n",
            "Enter your second value: y\n",
            "Error: ValueError\n",
            "The available operations in this calculator are +, -, *, /, ^, sqrt and log. \n",
            "Ensure to use the symbols as shown above. \n",
            "Enter 'exit' to exit the program.\n",
            "Enter your first value: exit\n"
          ]
        }
      ]
    },
    {
      "cell_type": "code",
      "source": [],
      "metadata": {
        "id": "-mQWNzDC3cod"
      },
      "execution_count": null,
      "outputs": []
    },
    {
      "cell_type": "code",
      "source": [],
      "metadata": {
        "id": "SvNTlSDc3ck6"
      },
      "execution_count": null,
      "outputs": []
    },
    {
      "cell_type": "code",
      "source": [],
      "metadata": {
        "id": "UIHSphYn3chr"
      },
      "execution_count": null,
      "outputs": []
    },
    {
      "cell_type": "code",
      "source": [],
      "metadata": {
        "id": "KYUac89Q3cYM"
      },
      "execution_count": null,
      "outputs": []
    }
  ]
}