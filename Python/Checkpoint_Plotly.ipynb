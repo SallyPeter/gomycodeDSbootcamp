{
  "nbformat": 4,
  "nbformat_minor": 0,
  "metadata": {
    "colab": {
      "provenance": [],
      "authorship_tag": "ABX9TyPz8qxIYBqwRjOaJA55x2GK",
      "include_colab_link": true
    },
    "kernelspec": {
      "name": "python3",
      "display_name": "Python 3"
    },
    "language_info": {
      "name": "python"
    }
  },
  "cells": [
    {
      "cell_type": "markdown",
      "metadata": {
        "id": "view-in-github",
        "colab_type": "text"
      },
      "source": [
        "<a href=\"https://colab.research.google.com/github/SallyPeter/gomycodeDSbootcamp/blob/main/Python/Checkpoint_Plotly.ipynb\" target=\"_parent\"><img src=\"https://colab.research.google.com/assets/colab-badge.svg\" alt=\"Open In Colab\"/></a>"
      ]
    },
    {
      "cell_type": "markdown",
      "source": [
        "## **What You're Aiming For**\n",
        "\n",
        "In this checkpoint, we are going to work on the 'Climate change in Africa' dataset that was provided by the U.S global change research program.\n",
        "\n",
        "**Dataset description :** This dataset contains historical data about the daily min, max and average temperature fluctuation in 5 African countries (Egypt, Tunisia, Cameroon, Senegal, Angola) between 1980 and 2023.\n",
        "\n",
        "➡️ Dataset link\n",
        "\n",
        "https://i.imgur.com/w2czdso.jpg\n",
        "\n",
        "\n",
        "## **Instructions**\n",
        "\n",
        "1. Load the dataset into a data frame using Python.\n",
        "2. Clean the data as needed.\n",
        "3. Plot a line chart to show the average temperature fluctuations in Tunisia and Cameroon. Interpret the results.\n",
        "4. Zoom in to only include data between 1980 and 2005, try to customize the axes labels.\n",
        "5. Create Histograms to show temperature distribution in Senegal between [1980,2000] and [2000,2023] (in the same figure). Describe the obtained results.\n",
        "6. Select the best chart to show the Average temperature per country.\n",
        "7. Make your own questions about the dataset and try to answer them using the appropriate visuals.\n"
      ],
      "metadata": {
        "id": "7HAYufYPKyBz"
      }
    },
    {
      "cell_type": "code",
      "source": [
        "import pandas as pd\n",
        "import plotly.express as px\n",
        "import plotly.graph_objects as go\n",
        "from plotly.subplots import make_subplots"
      ],
      "metadata": {
        "id": "EnGsV98-V0Ja"
      },
      "execution_count": null,
      "outputs": []
    },
    {
      "cell_type": "code",
      "execution_count": null,
      "metadata": {
        "id": "Pk8tqYhPKlud"
      },
      "outputs": [],
      "source": [
        "# Load the dataset into a data frame using Python.\n",
        "data = pd.read_csv('Africa_climate_change.csv')\n",
        "data.head()"
      ]
    },
    {
      "cell_type": "code",
      "source": [
        "data.info()"
      ],
      "metadata": {
        "id": "RJdkio3NXO-l"
      },
      "execution_count": null,
      "outputs": []
    },
    {
      "cell_type": "code",
      "source": [
        "data.describe()"
      ],
      "metadata": {
        "id": "PtbGrXrhYfxe"
      },
      "execution_count": null,
      "outputs": []
    },
    {
      "cell_type": "code",
      "source": [
        "# Clean the data as needed.\n",
        "\n",
        "# Handling missing data\n",
        "for each in ['TAVG', 'TMAX', 'TMIN']:\n",
        "  data[each] = data[each].fillna(data[each].mean())\n",
        "\n",
        "data['PRCP'] = data['PRCP'].fillna(data['PRCP'].mode()[0])\n",
        "\n",
        "data.info()"
      ],
      "metadata": {
        "id": "26T1XMvZKxod"
      },
      "execution_count": null,
      "outputs": []
    },
    {
      "cell_type": "code",
      "source": [
        "#Handling wrong data type\n",
        "\n",
        "data.DATE = pd.to_datetime(data['DATE'])\n",
        "\n",
        "data.head(2)"
      ],
      "metadata": {
        "id": "zGp7NBvPccVD"
      },
      "execution_count": null,
      "outputs": []
    },
    {
      "cell_type": "code",
      "source": [
        "type(data.DATE[0])"
      ],
      "metadata": {
        "id": "xaa7aKfEdqqZ"
      },
      "execution_count": null,
      "outputs": []
    },
    {
      "cell_type": "code",
      "source": [
        "data[data['TAVG'] < 0]"
      ],
      "metadata": {
        "id": "MPaOmZUFeGjb"
      },
      "execution_count": null,
      "outputs": []
    },
    {
      "cell_type": "markdown",
      "source": [
        "**There is only one occurence of a negative number in the TAVG column which looks like an error considering the difference between the TMAX and the TMIN column values for the same record. Hence we would convert it to a positive number.**"
      ],
      "metadata": {
        "id": "mXHbHTt4eObC"
      }
    },
    {
      "cell_type": "code",
      "source": [
        "data.loc[460304, 'TAVG'] = abs(data.loc[460304, 'TAVG']) #-- can also be done with this --- data.at[460304, 'TAVG'] = abs(data.at[460304, 'TAVG'])\n",
        "data.iloc[460304]['TAVG']"
      ],
      "metadata": {
        "id": "ZMMU9VmDeory"
      },
      "execution_count": null,
      "outputs": []
    },
    {
      "cell_type": "code",
      "source": [
        "# Plot a line chart to show the average temperature fluctuations in Tunisia and Cameroon. Interpret the results.\n",
        "mask = data['COUNTRY'].isin(['Tunisia', 'Cameroon'])\n",
        "tun_cam = data[mask]\n",
        "tun_cam.head()"
      ],
      "metadata": {
        "id": "PsrOWo3YKxd7"
      },
      "execution_count": null,
      "outputs": []
    },
    {
      "cell_type": "code",
      "source": [
        "fig = px.line(tun_cam, x='DATE', y='TAVG', color='COUNTRY')\n",
        "fig.show()"
      ],
      "metadata": {
        "id": "sWs2H0zCcFzd"
      },
      "execution_count": null,
      "outputs": []
    },
    {
      "cell_type": "code",
      "source": [
        "data.DATE.max()#.month"
      ],
      "metadata": {
        "id": "osfsvMzWgf4t"
      },
      "execution_count": null,
      "outputs": []
    },
    {
      "cell_type": "code",
      "source": [
        "# Zoom in to only include data between 1980 and 2005, try to customize the axes labels.\n",
        "import datetime\n",
        "\n",
        "start_date = datetime.datetime(1980, 1, 1) #'1980-01-01 00:00:00'\n",
        "end_date = datetime.datetime(2005, 12, 31) #'2005-12-31 00:00:00'\n",
        "\n",
        "fig.update_xaxes(type=\"date\", range=[start_date, end_date], title= f'Date Zoomed in to {start_date.year} and {end_date.year}')\n",
        "fig.update_layout(title = \"Average temperature fluctuations in Tunisia and Cameroon\", title_x = 0.5 )"
      ],
      "metadata": {
        "id": "vyeiEuDnKxaj"
      },
      "execution_count": null,
      "outputs": []
    },
    {
      "cell_type": "markdown",
      "source": [
        "**The line charts above indicates the average temperature fluctuations in Tunisia and Cameroon through the years. It is visible and can be intepreted that Tunisia experience a wider range of temperature fluctuations falling close to 40 degrees and rising up to 90 degrees. On the other hand the average temperature in cameroon is seen to lie often between 70 and 80 degrees**"
      ],
      "metadata": {
        "id": "hK3XMEV6iqer"
      }
    },
    {
      "cell_type": "code",
      "source": [
        "# Create Histograms to show temperature distribution in Senegal between [1980,2000] and [2000,2023] (in the same figure). Describe the obtained results.\n",
        "sen = data[data.COUNTRY == 'Senegal']\n",
        "sen['YEAR'] = sen.DATE.dt.year\n",
        "sen = sen[sen.YEAR <= 2023]\n",
        "sen.tail()"
      ],
      "metadata": {
        "id": "Qklb3XDEKxXg"
      },
      "execution_count": null,
      "outputs": []
    },
    {
      "cell_type": "code",
      "source": [
        "sen_1 = sen[sen.YEAR <= 2000]\n",
        "sen_2 = sen[sen.YEAR > 2000]"
      ],
      "metadata": {
        "id": "S4_I419Tl8Ln"
      },
      "execution_count": null,
      "outputs": []
    },
    {
      "cell_type": "code",
      "source": [
        "fig = make_subplots( rows = 1, cols=2, specs=[\n",
        "    [{\"type\":\"histogram\"}, {\"type\":\"histogram\"}]],\n",
        "                     subplot_titles=(\"Avg. Temp distribution in Senegal 1980 - 2000\", \"Avg. Temp distribution in Senegal 2001 - 2023\"))\n",
        "\n",
        "\n",
        "# fig.add_trace(go.Histogram(x = sen_1.TAVG, nbinsx=20), row=1, col=1)\n",
        "# fig.add_trace(go.Histogram(x = sen_2.TAVG, nbinsx=20), row=1, col=2)\n",
        "\n",
        "fig.add_trace(go.Histogram(x = sen_1.TAVG), row=1, col=1)\n",
        "fig.add_trace(go.Histogram(x = sen_2.TAVG), row=1, col=2)\n",
        "\n",
        "fig.update_xaxes(title_text=\"Average Temperature Values\", row=1, col=1)\n",
        "fig.update_yaxes(title_text=\"Count\", row=1, col=1)\n",
        "\n",
        "fig.update_xaxes(title_text=\"Average Temperature Values\", row=1, col=2)\n",
        "fig.update_yaxes(title_text=\"Count\", row=1, col=2)\n",
        "\n",
        "fig.show()"
      ],
      "metadata": {
        "id": "PqWNiCOtjsB9"
      },
      "execution_count": null,
      "outputs": []
    },
    {
      "cell_type": "markdown",
      "source": [
        "**The distribution of the Average temperature between 1980 and 2000 in Senegal lied mostly between 75 degrees and 90 degrees. Though this temperature in itself is hot, it is also visibly clear that the temperatures did rise between 2001 and 2023 as the average temperature difference leaned more towards 95 degrees with outliers jumping above 100 degrees**"
      ],
      "metadata": {
        "id": "JtjuGbNjnt0A"
      }
    },
    {
      "cell_type": "code",
      "source": [
        "# Select the best chart to show the Average temperature per country.\n",
        "\n",
        "fig = px.bar(data, x='COUNTRY', y='TAVG', title='Average temperature per country', color='COUNTRY')\n",
        "fig.show()"
      ],
      "metadata": {
        "id": "RSTt-dFPKxUx"
      },
      "execution_count": null,
      "outputs": []
    },
    {
      "cell_type": "code",
      "source": [
        "data.head()"
      ],
      "metadata": {
        "id": "kZR4dTg75XqG"
      },
      "execution_count": null,
      "outputs": []
    },
    {
      "cell_type": "code",
      "source": [
        "data.COUNTRY.unique()"
      ],
      "metadata": {
        "id": "YZFnVLwI5sri"
      },
      "execution_count": null,
      "outputs": []
    },
    {
      "cell_type": "code",
      "source": [
        "# Make your own questions about the dataset and try to answer them using the appropriate visuals.\n",
        "\n"
      ],
      "metadata": {
        "id": "zmJL82FRNDr0"
      },
      "execution_count": null,
      "outputs": []
    },
    {
      "cell_type": "code",
      "source": [
        "px.histogram(data[data.COUNTRY == 'Tunisia']['PRCP'] )"
      ],
      "metadata": {
        "collapsed": true,
        "id": "fiNgGW9SD19d"
      },
      "execution_count": null,
      "outputs": []
    },
    {
      "cell_type": "code",
      "source": [
        "# What is the distribution of precipitation (PRCP) in each country?\n",
        "\n",
        "fig = make_subplots( rows = 3, cols=2, specs=[\n",
        "    [{\"type\":\"histogram\"}, {\"type\":\"histogram\"}],\n",
        "     [{\"type\":\"histogram\"}, {\"type\":\"histogram\"}],\n",
        "      [{\"type\":\"histogram\"}, None]] ,\n",
        "                     subplot_titles=(\"Distribution of PRCP for Tunisia\", \"Distribution of PRCP for Cameroon\", \"Distribution of PRCP for Senegal\", \"Distribution of PRCP for Egypt\", \"Distribution of PRCP for Angola\", None))\n",
        "\n",
        "\n",
        "fig.add_trace(go.Histogram(x = data[data.COUNTRY == 'Tunisia']['PRCP']), row=1, col=1)\n",
        "fig.add_trace(go.Histogram(x = data[data.COUNTRY == 'Cameroon']['PRCP']), row=1, col=2)\n",
        "fig.add_trace(go.Histogram(x = data[data.COUNTRY == 'Senegal']['PRCP']), row=2, col=1)\n",
        "fig.add_trace(go.Histogram(x = data[data.COUNTRY == 'Egypt']['PRCP']), row=2, col=2)\n",
        "fig.add_trace(go.Histogram(x = data[data.COUNTRY == 'Angola']['PRCP']), row=3, col=1)\n",
        "\n",
        "\n",
        "fig.update_xaxes(title_text=\"PRCP Values\", row=1, col=1)\n",
        "fig.update_yaxes(title_text=\"Count\", row=1, col=1)\n",
        "\n",
        "fig.update_xaxes(title_text=\"PRCP Values\", row=1, col=2)\n",
        "fig.update_yaxes(title_text=\"Count\", row=1, col=2)\n",
        "\n",
        "\n",
        "fig.update_xaxes(title_text=\"PRCP Values\", row=2, col=1)\n",
        "fig.update_yaxes(title_text=\"Count\", row=2, col=1)\n",
        "\n",
        "fig.update_xaxes(title_text=\"PRCP Values\", row=2, col=2)\n",
        "fig.update_yaxes(title_text=\"Count\", row=2, col=2)\n",
        "\n",
        "\n",
        "fig.update_xaxes(title_text=\"PRCP Values\", row=3, col=1)\n",
        "fig.update_yaxes(title_text=\"Count\", row=3, col=1)\n",
        "\n",
        "\n",
        "fig.show()"
      ],
      "metadata": {
        "id": "q9uD_B9k5Ut0"
      },
      "execution_count": null,
      "outputs": []
    },
    {
      "cell_type": "markdown",
      "source": [
        "Not as informative as expected. But this goes to show that for each of the country the PRCP values that occurred the most was 0"
      ],
      "metadata": {
        "id": "RbN276aCwy97"
      }
    },
    {
      "cell_type": "code",
      "source": [
        "data.columns"
      ],
      "metadata": {
        "id": "EK4cL6B00ZTW"
      },
      "execution_count": null,
      "outputs": []
    },
    {
      "cell_type": "code",
      "source": [
        "# What are the maximum and minimum temperatures (TMAX and TMIN) for each country over time?\n",
        "\n",
        "# What is the distribution of precipitation (PRCP) in each country?\n",
        "\n",
        "fig = make_subplots( rows = 5, cols=2, specs=[\n",
        "    [{\"type\":\"scatter\"}, {\"type\":\"scatter\"}],\n",
        "     [{\"type\":\"scatter\"}, {\"type\":\"scatter\"}],\n",
        "    [{\"type\":\"scatter\"}, {\"type\":\"scatter\"}],\n",
        "    [{\"type\":\"scatter\"}, {\"type\":\"scatter\"}],\n",
        "    [{\"type\":\"scatter\"}, {\"type\":\"scatter\"}]\n",
        "      ] ,\n",
        "    subplot_titles=(\"Distribution of TMAX Temperatures for Tunisia\", \"Distribution of TMin Temperatures for Tunisia\", \"Distribution of TMAX Temperatures for Cameroon\", \"Distribution of TMIN Temperatures for Cameroon\",\n",
        "                    \"Distribution of TMAX Temperatures for Senegal\", \"Distribution of TMIN Temperatures for Senegal\",  \"Distribution of TMAX Temperatures for Egypt\", \"Distribution of TMIN Temperatures for Egypt\",\n",
        "                    \"Distribution of TMAX Temperatures for Angola\", \"Distribution of TMIN Temperatures for Angola\"))\n",
        "\n",
        "tun_data = data[data.COUNTRY == 'Tunisia']\n",
        "cam_data = data[data.COUNTRY == 'Cameroon']\n",
        "sen_data = data[data.COUNTRY == 'Senegal']\n",
        "egy_data = data[data.COUNTRY == 'Egypt']\n",
        "ang_data = data[data.COUNTRY == 'Angola']\n",
        "\n",
        "fig.add_trace(go.Scatter( x = tun_data['DATE'], y=tun_data['TMAX'], mode='lines'), row=1, col=1)\n",
        "fig.add_trace(go.Scatter( x = tun_data['DATE'], y=tun_data['TMIN'], mode='lines'), row=1, col=2)\n",
        "fig.add_trace(go.Scatter(x = cam_data['DATE'], y=cam_data['TMAX'], mode='lines'), row=2, col=1)\n",
        "fig.add_trace(go.Scatter(x = cam_data['DATE'], y=cam_data['TMIN'], mode='lines'), row=2, col=2)\n",
        "fig.add_trace(go.Scatter(x =sen_data[ 'DATE'], y=sen_data['TMAX'], mode='lines'), row=3, col=1)\n",
        "fig.add_trace(go.Scatter(x =sen_data[ 'DATE'], y=sen_data[ 'TMIN'], mode='lines'), row=3, col=2)\n",
        "fig.add_trace(go.Scatter(x = egy_data['DATE'], y=egy_data['TMAX'], mode='lines'), row=4, col=1)\n",
        "fig.add_trace(go.Scatter(x = egy_data['DATE'], y=egy_data['TMIN'], mode='lines'), row=4, col=2)\n",
        "fig.add_trace(go.Scatter(x = ang_data['DATE'], y=ang_data['TMAX'], mode='lines'), row=5, col=1)\n",
        "fig.add_trace(go.Scatter(x = ang_data['DATE'], y=ang_data['TMIN'], mode='lines'), row=5, col=2)\n",
        "\n",
        "\n",
        "fig.update_xaxes(title_text=\"Date\", row=1, col=1)\n",
        "fig.update_yaxes(title_text=\"Temp. Values\", row=1, col=1)\n",
        "\n",
        "fig.update_xaxes(title_text=\"Date\", row=1, col=2)\n",
        "fig.update_yaxes(title_text=\"Temp. Values\", row=1, col=2)\n",
        "\n",
        "fig.update_xaxes(title_text=\"Date\", row=2, col=1)\n",
        "fig.update_yaxes(title_text=\"Temp. Values\", row=2, col=1)\n",
        "\n",
        "fig.update_xaxes(title_text=\"Date\", row=2, col=2)\n",
        "fig.update_yaxes(title_text=\"Temp. Values\", row=2, col=2)\n",
        "\n",
        "fig.update_xaxes(title_text=\"Date\", row=3, col=1)\n",
        "fig.update_yaxes(title_text=\"Temp. Values\", row=3, col=1)\n",
        "\n",
        "fig.update_xaxes(title_text=\"Date\", row=3, col=2)\n",
        "fig.update_yaxes(title_text=\"Temp. Values\", row=3, col=2)\n",
        "\n",
        "fig.update_xaxes(title_text=\"Date\", row=4, col=1)\n",
        "fig.update_yaxes(title_text=\"Temp. Values\", row=4, col=1)\n",
        "\n",
        "fig.update_xaxes(title_text=\"Date\", row=4, col=2)\n",
        "fig.update_yaxes(title_text=\"Temp. Values\", row=4, col=2)\n",
        "\n",
        "fig.update_xaxes(title_text=\"Date\", row=5, col=1)\n",
        "fig.update_yaxes(title_text=\"Temp. Values\", row=5, col=1)\n",
        "\n",
        "fig.update_xaxes(title_text=\"Date\", row=5, col=2)\n",
        "fig.update_yaxes(title_text=\"Temp. Values\", row=5, col=2)\n",
        "\n",
        "\n",
        "fig.show()"
      ],
      "metadata": {
        "id": "10Y8lC9w80_3"
      },
      "execution_count": null,
      "outputs": []
    },
    {
      "cell_type": "code",
      "source": [
        "# What is the correlation between average temperature (TAVG) and precipitation (PRCP) across different countries?\n",
        "scat = px.scatter(data, x='TAVG', y='PRCP',  color='COUNTRY', opacity=0.6)\n",
        "scat.show()"
      ],
      "metadata": {
        "id": "ZoygJeGG808c"
      },
      "execution_count": null,
      "outputs": []
    },
    {
      "cell_type": "code",
      "source": [
        "tun_data.groupby(tun_data['DATE'].dt.month)[['TMAX','TMIN']].mean()"
      ],
      "metadata": {
        "id": "xwcR-REvdCmt"
      },
      "execution_count": null,
      "outputs": []
    },
    {
      "cell_type": "code",
      "source": [
        "# How do temperature extremes (TMAX and TMIN) vary across different months in each country?\n",
        "\n",
        "fig = make_subplots( rows = 3, cols=2, specs=[\n",
        "    [{\"type\":\"bar\"}, {\"type\":\"bar\"}],\n",
        "     [{\"type\":\"bar\"}, {\"type\":\"bar\"}],\n",
        "      [{\"type\":\"bar\"}, None]] ,\n",
        "                     subplot_titles=(\"Average Monthly Temperatures for Tunisia\", \"Average Monthly Temperatures for Cameroon\", \"Average Monthly Temperatures for Senegal\", \"Average Monthly Temperatures for Egypt\",\n",
        "                                     \"Average Monthly Temperatures for Angola\", None))\n",
        "\n",
        "avg_tun = tun_data.groupby(tun_data['DATE'].dt.month)[['TMAX','TMIN']].mean()\n",
        "avg_cam = cam_data.groupby(cam_data['DATE'].dt.month)[['TMAX','TMIN']].mean()\n",
        "avg_sen = sen_data.groupby(sen_data['DATE'].dt.month)[['TMAX','TMIN']].mean()\n",
        "avg_egy = egy_data.groupby(egy_data['DATE'].dt.month)[['TMAX','TMIN']].mean()\n",
        "avg_ang = ang_data.groupby(ang_data['DATE'].dt.month)[['TMAX','TMIN']].mean()\n",
        "\n",
        "fig.add_trace(go.Bar( x = avg_tun.index, y=avg_tun['TMIN']), row=1, col=1)\n",
        "fig.add_trace(go.Bar( x = avg_tun.index, y=avg_tun['TMAX']), row=1, col=1)\n",
        "fig.add_trace(go.Bar( x = avg_cam.index, y=avg_cam['TMIN']), row=1, col=2)\n",
        "fig.add_trace(go.Bar( x = avg_cam.index, y=avg_cam['TMAX']), row=1, col=2)\n",
        "fig.add_trace(go.Bar( x = avg_sen.index, y=avg_sen['TMIN']), row=2, col=1)\n",
        "fig.add_trace(go.Bar( x = avg_sen.index, y=avg_sen['TMAX']), row=2, col=1)\n",
        "fig.add_trace(go.Bar( x = avg_egy.index, y=avg_egy['TMIN']), row=2, col=2)\n",
        "fig.add_trace(go.Bar( x = avg_egy.index, y=avg_egy['TMAX']), row=2, col=2)\n",
        "fig.add_trace(go.Bar( x = avg_ang.index, y=avg_ang['TMIN']), row=3, col=1)\n",
        "fig.add_trace(go.Bar( x = avg_ang.index, y=avg_ang['TMAX']), row=3, col=1)\n",
        "\n",
        "\n",
        "fig.update_xaxes(title_text=\"Month\", row=1, col=1)\n",
        "fig.update_yaxes(title_text=\"Temp. Values\", row=1, col=1)\n",
        "\n",
        "fig.update_xaxes(title_text=\"Month\", row=1, col=2)\n",
        "fig.update_yaxes(title_text=\"Temp. Values\", row=1, col=2)\n",
        "\n",
        "\n",
        "fig.update_xaxes(title_text=\"Month\", row=2, col=1)\n",
        "fig.update_yaxes(title_text=\"Temp. Values\", row=2, col=1)\n",
        "\n",
        "fig.update_xaxes(title_text=\"Month\", row=2, col=2)\n",
        "fig.update_yaxes(title_text=\"Temp. Values\", row=2, col=2)\n",
        "\n",
        "fig.update_xaxes(title_text=\"Month\", row=3, col=1)\n",
        "fig.update_yaxes(title_text=\"Temp. Values\", row=3, col=1)\n",
        "\n",
        "\n",
        "fig.update_layout(barmode='stack')\n",
        "# fig.update_legends()\n",
        "fig.show()"
      ],
      "metadata": {
        "id": "yAvdGsbY800u"
      },
      "execution_count": null,
      "outputs": []
    },
    {
      "cell_type": "markdown",
      "source": [
        "*PS:* The bottom bars are the minimum temperatures while the top ones are the maximum.\n",
        "\n",
        "We can observe that Tunisia and Egypt had a visible change in temperature between June and September. While the other countries had a fairly steady weather each month"
      ],
      "metadata": {
        "id": "LHdI1Rlekh4E"
      }
    },
    {
      "cell_type": "code",
      "source": [
        "# Which country experiences the highest variability in daily temperatures (TMAX - TMIN)?  --Chat GPT Assisted\n",
        "\n",
        "data['Temp_Diff'] = data['TMAX'] - data['TMIN']\n",
        "\n",
        "country_variability = data.groupby('COUNTRY')['Temp_Diff'].std().reset_index()\n",
        "\n",
        "fig = px.bar(\n",
        "    country_variability,\n",
        "    x='COUNTRY',\n",
        "    y='Temp_Diff',\n",
        "    title='Temperature Variability (TMAX - TMIN) by Country',\n",
        "    labels={'Temp_Diff': 'Temperature Variability (Standard Deviation)', 'COUNTRY': 'Country'},\n",
        "    color='Temp_Diff',  # Color bars based on variability\n",
        "    text='Temp_Diff',  # Display the variability value on the bars\n",
        "    height=500\n",
        ")\n",
        "\n",
        "# Highlight the country with the highest variability\n",
        "fig.update_traces(texttemplate='%{text:.2f}', textposition='outside')\n",
        "fig.show()"
      ],
      "metadata": {
        "id": "L-SOSuKP80ub"
      },
      "execution_count": null,
      "outputs": []
    },
    {
      "cell_type": "markdown",
      "source": [
        "Tunisia has the most variability in its temperatures over the years, followed by Egypt and Senegal while Angola had the least variability."
      ],
      "metadata": {
        "id": "sMIlypAZl3h6"
      }
    },
    {
      "cell_type": "code",
      "source": [],
      "metadata": {
        "id": "Nh1P-ZPDsh6p"
      },
      "execution_count": null,
      "outputs": []
    },
    {
      "cell_type": "code",
      "source": [],
      "metadata": {
        "id": "QfQneRKxskD2"
      },
      "execution_count": null,
      "outputs": []
    }
  ]
}