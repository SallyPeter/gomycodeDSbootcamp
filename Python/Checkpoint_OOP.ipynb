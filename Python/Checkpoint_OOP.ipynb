{
  "nbformat": 4,
  "nbformat_minor": 0,
  "metadata": {
    "colab": {
      "provenance": [],
      "toc_visible": true,
      "authorship_tag": "ABX9TyMUYEYxuzmhPBJL7p+o/lrx",
      "include_colab_link": true
    },
    "kernelspec": {
      "name": "python3",
      "display_name": "Python 3"
    },
    "language_info": {
      "name": "python"
    }
  },
  "cells": [
    {
      "cell_type": "markdown",
      "metadata": {
        "id": "view-in-github",
        "colab_type": "text"
      },
      "source": [
        "<a href=\"https://colab.research.google.com/github/SallyPeter/gomycodeDSbootcamp/blob/main/Python/Checkpoint_OOP.ipynb\" target=\"_parent\"><img src=\"https://colab.research.google.com/assets/colab-badge.svg\" alt=\"Open In Colab\"/></a>"
      ]
    },
    {
      "cell_type": "markdown",
      "source": [
        "# Creating a bank Account\n",
        "\n",
        "### What You're Aiming For\n",
        "\n",
        "Create a class called \"Account\" that has the following attributes:\n",
        "- account_number (string)\n",
        "- account_balance (float)\n",
        "- account_holder (string)\n",
        "\n",
        "The class should have the following methods:\n",
        "- deposit(amount: float) - This method should add the amount passed as an argument to the account balance.\n",
        "- withdraw(amount: float) - This method should subtract the amount passed as an argument from the account balance, but only if the account balance is greater than the amount being withdrawn.\n",
        "- check_balance() - This method should return the current account balance."
      ],
      "metadata": {
        "id": "pQkpdRc6HxLK"
      }
    },
    {
      "cell_type": "markdown",
      "source": [
        "## Instructions\n",
        "\n",
        "1. Create a new file called \"bank_account.py\"\n",
        "2. Define the Account class and its attributes as specified above.\n",
        "3. Define the deposit() method. It should take in one argument, the amount to be deposited, and add it to the account balance.\n",
        "4. Define the withdraw() method. It should take in one argument, the amount to be withdrawn, and subtract it from the account balance. The method should only execute the withdrawal if the account balance is greater than or equal to the amount to be withdrawn.\n",
        "5. Define the check_balance() method. It should return the current account balance.\n",
        "6. Create an instance of the Account class, and assign it to a variable called \"my_account\".\n",
        "7. Use the methods of the class to deposit and withdraw money from the account, and check the account balance.\n",
        "8. Test the program by creating multiple instances of the class and performing different transactions on them."
      ],
      "metadata": {
        "id": "BRzclLBcIFtH"
      }
    },
    {
      "cell_type": "code",
      "execution_count": 13,
      "metadata": {
        "id": "jxR_8KI9HB6N"
      },
      "outputs": [],
      "source": [
        "class Account():\n",
        "  def __init__(self, account_number, account_balance, account_holder):\n",
        "    self.acc_num = account_number\n",
        "    self.acc_bal = account_balance\n",
        "    self.acc_hol = account_holder\n",
        "\n",
        "  def deposit(self, amount):\n",
        "      self.acc_bal += amount\n",
        "\n",
        "  def withdraw(self, amount):\n",
        "      if self.acc_bal >= amount:\n",
        "        self.acc_bal -= amount\n",
        "      else:\n",
        "        return \"insufficient funds\"\n",
        "\n",
        "  def check_balance(self):\n",
        "      return self.acc_bal"
      ]
    },
    {
      "cell_type": "code",
      "source": [
        "#  Creating an instance of Account\n",
        "my_account = Account(\"0012124353\", 50000.00, \"Sally Peter\")"
      ],
      "metadata": {
        "id": "FAlxBYBGHork"
      },
      "execution_count": 18,
      "outputs": []
    },
    {
      "cell_type": "code",
      "source": [
        "# Depositing to my_account\n",
        "print(my_account.check_balance())\n",
        "my_account.deposit(20000)\n",
        "print(my_account.check_balance())"
      ],
      "metadata": {
        "colab": {
          "base_uri": "https://localhost:8080/"
        },
        "id": "jWWYJzohHooW",
        "outputId": "91bc5f16-1afa-4f59-9464-fb9dee4e7c90"
      },
      "execution_count": 20,
      "outputs": [
        {
          "output_type": "stream",
          "name": "stdout",
          "text": [
            "70000.0\n",
            "90000.0\n"
          ]
        }
      ]
    },
    {
      "cell_type": "code",
      "source": [
        "# Withdrawing from my_account\n",
        "\n",
        "my_account.withdraw(100000)\n"
      ],
      "metadata": {
        "colab": {
          "base_uri": "https://localhost:8080/",
          "height": 35
        },
        "id": "Rwojkn1ZHolP",
        "outputId": "72377550-a8b8-4ed0-df86-0a9b6d075f9a"
      },
      "execution_count": 21,
      "outputs": [
        {
          "output_type": "execute_result",
          "data": {
            "text/plain": [
              "'insufficient funds'"
            ],
            "application/vnd.google.colaboratory.intrinsic+json": {
              "type": "string"
            }
          },
          "metadata": {},
          "execution_count": 21
        }
      ]
    },
    {
      "cell_type": "code",
      "source": [
        "my_account.withdraw(47000)\n",
        "my_account.check_balance()"
      ],
      "metadata": {
        "colab": {
          "base_uri": "https://localhost:8080/"
        },
        "id": "YoqKb_FtOJ9v",
        "outputId": "4dbc230e-0c62-4937-d55e-5d75069687b2"
      },
      "execution_count": 22,
      "outputs": [
        {
          "output_type": "execute_result",
          "data": {
            "text/plain": [
              "43000.0"
            ]
          },
          "metadata": {},
          "execution_count": 22
        }
      ]
    },
    {
      "cell_type": "code",
      "source": [],
      "metadata": {
        "id": "4EXSaow8OU5z"
      },
      "execution_count": null,
      "outputs": []
    }
  ]
}