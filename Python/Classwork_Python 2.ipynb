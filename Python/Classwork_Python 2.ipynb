{
 "cells": [
  {
   "cell_type": "markdown",
   "metadata": {},
   "source": [
    "# Python Basics 2"
   ]
  },
  {
   "cell_type": "markdown",
   "metadata": {},
   "source": [
    "### Import statement"
   ]
  },
  {
   "cell_type": "code",
   "execution_count": 1,
   "metadata": {},
   "outputs": [],
   "source": [
    "import math"
   ]
  },
  {
   "cell_type": "code",
   "execution_count": 2,
   "metadata": {},
   "outputs": [
    {
     "data": {
      "text/plain": [
       "3.141592653589793"
      ]
     },
     "execution_count": 2,
     "metadata": {},
     "output_type": "execute_result"
    }
   ],
   "source": [
    "math.pi"
   ]
  },
  {
   "cell_type": "code",
   "execution_count": 3,
   "metadata": {},
   "outputs": [
    {
     "data": {
      "text/plain": [
       "3"
      ]
     },
     "execution_count": 3,
     "metadata": {},
     "output_type": "execute_result"
    }
   ],
   "source": [
    "round(math.pi)"
   ]
  },
  {
   "cell_type": "code",
   "execution_count": 4,
   "metadata": {},
   "outputs": [
    {
     "data": {
      "text/plain": [
       "3.14"
      ]
     },
     "execution_count": 4,
     "metadata": {},
     "output_type": "execute_result"
    }
   ],
   "source": [
    "round(math.pi, 2)"
   ]
  },
  {
   "cell_type": "code",
   "execution_count": 9,
   "metadata": {},
   "outputs": [
    {
     "name": "stdout",
     "output_type": "stream",
     "text": [
      "6/4 =  1.5\n",
      "math.ceil(6/4) =  2\n",
      "math.floor(6/4) =  1\n"
     ]
    }
   ],
   "source": [
    "print(\"6/4 = \",6/4)\n",
    "print(\"math.ceil(6/4) = \", math.ceil(6/4))\n",
    "print(\"math.floor(6/4) = \", math.floor(6/4))"
   ]
  },
  {
   "cell_type": "code",
   "execution_count": 11,
   "metadata": {},
   "outputs": [
    {
     "data": {
      "text/plain": [
       "48.75318072861148"
      ]
     },
     "execution_count": 11,
     "metadata": {},
     "output_type": "execute_result"
    }
   ],
   "source": [
    "math.degrees(math.sin(45))"
   ]
  },
  {
   "cell_type": "code",
   "execution_count": 12,
   "metadata": {},
   "outputs": [
    {
     "data": {
      "text/plain": [
       "0.7071067811865476"
      ]
     },
     "execution_count": 12,
     "metadata": {},
     "output_type": "execute_result"
    }
   ],
   "source": [
    "math.sin(math.radians(45))"
   ]
  },
  {
   "cell_type": "code",
   "execution_count": 13,
   "metadata": {},
   "outputs": [
    {
     "data": {
      "text/plain": [
       "0.7853981633974483"
      ]
     },
     "execution_count": 13,
     "metadata": {},
     "output_type": "execute_result"
    }
   ],
   "source": [
    "math.radians(45)"
   ]
  },
  {
   "cell_type": "code",
   "execution_count": 14,
   "metadata": {},
   "outputs": [],
   "source": [
    "import random"
   ]
  },
  {
   "cell_type": "code",
   "execution_count": 17,
   "metadata": {},
   "outputs": [
    {
     "data": {
      "text/plain": [
       "0.0788864915614087"
      ]
     },
     "execution_count": 17,
     "metadata": {},
     "output_type": "execute_result"
    }
   ],
   "source": [
    "random.random()"
   ]
  },
  {
   "cell_type": "code",
   "execution_count": 23,
   "metadata": {},
   "outputs": [
    {
     "data": {
      "text/plain": [
       "108"
      ]
     },
     "execution_count": 23,
     "metadata": {},
     "output_type": "execute_result"
    }
   ],
   "source": [
    "random.randint(10,125)"
   ]
  },
  {
   "cell_type": "code",
   "execution_count": 27,
   "metadata": {},
   "outputs": [
    {
     "data": {
      "text/plain": [
       "498"
      ]
     },
     "execution_count": 27,
     "metadata": {},
     "output_type": "execute_result"
    }
   ],
   "source": [
    "random.randrange(1, 503, 7) #don't understan this yet as it seems to be same as randint\n"
   ]
  },
  {
   "cell_type": "code",
   "execution_count": 39,
   "metadata": {},
   "outputs": [
    {
     "name": "stdout",
     "output_type": "stream",
     "text": [
      "55\n",
      "[10, 20, 10]\n",
      "6\n"
     ]
    }
   ],
   "source": [
    "a = [10,20,25,13,58,76,21,15,46,55]\n",
    "print(random.choice(a))\n",
    "print(random.choices(a,k=3))\n",
    "print(random.getrandbits(3)) # this too... have no idea what it does yet\n"
   ]
  },
  {
   "cell_type": "markdown",
   "metadata": {},
   "source": [
    "### Variable"
   ]
  },
  {
   "cell_type": "code",
   "execution_count": 42,
   "metadata": {},
   "outputs": [
    {
     "name": "stdout",
     "output_type": "stream",
     "text": [
      "Sally\n"
     ]
    }
   ],
   "source": [
    "Name = input(\"Enter your name: \")\n",
    "print(Name)"
   ]
  },
  {
   "cell_type": "markdown",
   "metadata": {},
   "source": [
    "### Rules and Naming Convention for Variables and constants\n",
    "1. Constant and variable names should have a combination of letters in lowercase (a to z) or uppercase (A to Z) or digits (0 to 9) or an underscore (_).\n",
    "2. Create a name that makes sense. For example, apple makes more sense than a.\n",
    "3. If you want to create a variable name having two words, use underscore to separate them.\n",
    "4. Never use special symbols like !, @, #, $, %, etc.\n",
    "5. Don't start a variable name with a digit.\n",
    "\n",
    "#### Legal variable names:\n",
    "myvar = \"John\"\n",
    "\n",
    "my_var = \"John\"\n",
    "\n",
    "_my_var = \"John\"\n",
    "\n",
    "myVar = \"John\"\n",
    "\n",
    "MYVAR = \"John\"\n",
    "\n",
    "myvar2 = \"John\"\n",
    "\n",
    "#### Illegal variable names:\n",
    "\n",
    "2myvar = \"John\"\n",
    "\n",
    "my-var = \"John\"\n",
    "\n",
    "my var = \"John\""
   ]
  },
  {
   "cell_type": "code",
   "execution_count": 44,
   "metadata": {},
   "outputs": [
    {
     "name": "stdout",
     "output_type": "stream",
     "text": [
      "Sally\n",
      "Salvation\n"
     ]
    }
   ],
   "source": [
    "print(Name)\n",
    "Name = \"Salvation\"\n",
    "\n",
    "print(Name)"
   ]
  },
  {
   "cell_type": "markdown",
   "metadata": {},
   "source": [
    "### Instructions :\n",
    "you will be building a program that generates a band name based on the city you grew up in and the name of your pet.\n",
    "To complete the project, you will need to use skills such as printing inputs, variables, new lines, string manipulation, and debugging.\n",
    "\n",
    "\n",
    "1. Create a greeting for your program.\n",
    "2. Ask the user for the city that they grew up in.\n",
    "3. Ask the user for the name of a pet.\n",
    "4. Combine the name of their city and pet and show them their band name.\n",
    "4. Make sure the input cursor shows on a new line:"
   ]
  },
  {
   "cell_type": "code",
   "execution_count": 52,
   "metadata": {},
   "outputs": [
    {
     "name": "stdout",
     "output_type": "stream",
     "text": [
      "Hello, Welcome to my program.\n",
      "I would create a band name for you if you would answer a few questions.\n",
      "You grew up in Aba. \n",
      "Your pet's name is Bingo. \n",
      "Your band name could be Ababin\n"
     ]
    }
   ],
   "source": [
    "print(\"Hello, Welcome to my program.\\nI would create a band name for you if you would answer a few questions.\")\n",
    "city = input(\"Please enter the name of the city you grew up in: \")\n",
    "pet = input(\"Enter the name of your pet: \")\n",
    "\n",
    "band_name = city[-3:] + pet[:3].lower()\n",
    "\n",
    "print(f\"You grew up in {city}. \\nYour pet's name is {pet}. \\nYour band name could be {band_name}\")"
   ]
  },
  {
   "cell_type": "code",
   "execution_count": 56,
   "metadata": {},
   "outputs": [
    {
     "name": "stdout",
     "output_type": "stream",
     "text": [
      "Salvation\n",
      "9\n"
     ]
    }
   ],
   "source": [
    "print(Name)\n",
    "print(len(Name))"
   ]
  },
  {
   "cell_type": "code",
   "execution_count": 58,
   "metadata": {},
   "outputs": [
    {
     "name": "stdout",
     "output_type": "stream",
     "text": [
      "6\n"
     ]
    }
   ],
   "source": [
    "string2 = \"123456\"\n",
    "print(len(string2))"
   ]
  },
  {
   "cell_type": "code",
   "execution_count": 59,
   "metadata": {},
   "outputs": [
    {
     "name": "stdout",
     "output_type": "stream",
     "text": [
      "False\n"
     ]
    }
   ],
   "source": [
    "print((2>5) == (6>2))"
   ]
  },
  {
   "cell_type": "code",
   "execution_count": 60,
   "metadata": {},
   "outputs": [
    {
     "name": "stdout",
     "output_type": "stream",
     "text": [
      "int:  15\n",
      "string:  15\n",
      "float:  15.0\n",
      "int:  15\n"
     ]
    }
   ],
   "source": [
    "x = 15\n",
    "print(\"int: \",int(x))\n",
    "print(\"string: \", str(x))\n",
    "print(\"float: \", float(x))\n",
    "print(\"int: \", int(15.23))"
   ]
  },
  {
   "cell_type": "markdown",
   "metadata": {},
   "source": [
    "### Instructions :\n",
    "Write a program that adds the digits in a 2 digit number. e.g. if the input was 35, then the output should be 3 + 5 = 8\n",
    "\n",
    "**Example Input : **\n",
    "\n",
    "39\n",
    "\n",
    "** Example Output**\n",
    "\n",
    "3 + 9 = 12\n",
    "\n",
    "Hint\n",
    "\n",
    "1. Try to find out the data type of two_digit_number.\n",
    "2. Think about what you learnt about subscripting.\n",
    "3. Think about type conversion."
   ]
  },
  {
   "cell_type": "code",
   "execution_count": 63,
   "metadata": {},
   "outputs": [
    {
     "name": "stdout",
     "output_type": "stream",
     "text": [
      "Please enter a 2-digit number: \n",
      "You entered 99. \n",
      "The sum of the two digits equals 9 + 9 = 18 \n"
     ]
    }
   ],
   "source": [
    "print(\"Please enter a 2-digit number: \")\n",
    "two_digit = input()\n",
    "print(\"You entered {}. \\nThe sum of the two digits equals {} + {} = {} \".format(\n",
    "    two_digit, two_digit[0], two_digit[1], int(two_digit[0]) + int(two_digit[1])\n",
    "))"
   ]
  },
  {
   "cell_type": "code",
   "execution_count": null,
   "metadata": {},
   "outputs": [],
   "source": []
  },
  {
   "cell_type": "code",
   "execution_count": null,
   "metadata": {},
   "outputs": [],
   "source": []
  },
  {
   "cell_type": "code",
   "execution_count": null,
   "metadata": {},
   "outputs": [],
   "source": []
  }
 ],
 "metadata": {
  "kernelspec": {
   "display_name": "base",
   "language": "python",
   "name": "python3"
  },
  "language_info": {
   "codemirror_mode": {
    "name": "ipython",
    "version": 3
   },
   "file_extension": ".py",
   "mimetype": "text/x-python",
   "name": "python",
   "nbconvert_exporter": "python",
   "pygments_lexer": "ipython3",
   "version": "3.8.5"
  }
 },
 "nbformat": 4,
 "nbformat_minor": 2
}
