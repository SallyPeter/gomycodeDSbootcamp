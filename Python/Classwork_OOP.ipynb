{
  "nbformat": 4,
  "nbformat_minor": 0,
  "metadata": {
    "colab": {
      "provenance": [],
      "authorship_tag": "ABX9TyMvguC/giexjLnSwqK5IH+1",
      "include_colab_link": true
    },
    "kernelspec": {
      "name": "python3",
      "display_name": "Python 3"
    },
    "language_info": {
      "name": "python"
    }
  },
  "cells": [
    {
      "cell_type": "markdown",
      "metadata": {
        "id": "view-in-github",
        "colab_type": "text"
      },
      "source": [
        "<a href=\"https://colab.research.google.com/github/SallyPeter/gomycodeDSbootcamp/blob/main/Python/Classwork_OOP.ipynb\" target=\"_parent\"><img src=\"https://colab.research.google.com/assets/colab-badge.svg\" alt=\"Open In Colab\"/></a>"
      ]
    },
    {
      "cell_type": "code",
      "execution_count": 4,
      "metadata": {
        "id": "0yrhTtDU1rJ3"
      },
      "outputs": [],
      "source": [
        "class Player:\n",
        "  def __init__(self,name):\n",
        "    self.name= name\n",
        "\n",
        "  def run(self):\n",
        "    print(f\"{self.name} is running in the game.\")"
      ]
    },
    {
      "cell_type": "code",
      "source": [
        "player_one = Player(\"Harry Porter\")\n",
        "player_two = Player(\"Lord Voldermort\")\n",
        "\n",
        "print(player_one.name)\n",
        "print(player_two.name)\n",
        "print(player_one.run())\n",
        "print(player_two.run())"
      ],
      "metadata": {
        "colab": {
          "base_uri": "https://localhost:8080/"
        },
        "id": "bY9PC2l74pog",
        "outputId": "7452280a-5a13-4f11-d2d2-7b153d71db73"
      },
      "execution_count": 5,
      "outputs": [
        {
          "output_type": "stream",
          "name": "stdout",
          "text": [
            "Harry Porter\n",
            "Lord Voldermort\n",
            "Harry Porter is running in the game.\n",
            "None\n",
            "Lord Voldermort is running in the game.\n",
            "None\n"
          ]
        }
      ]
    },
    {
      "cell_type": "markdown",
      "source": [
        "Instructions :\n",
        "\n",
        "- Add an instance variable \"hp\" (hit points) to the Player class and initialize it to 100.\n",
        "- Add a method \"take_damage\" to the Player class that takes in an integer \"damage\" and reduces the player's hit points by that amount.\n",
        "- Print out the player's name and remaining hit points after the player takes 20 points of damage."
      ],
      "metadata": {
        "id": "XfG5z13o7sXh"
      }
    },
    {
      "cell_type": "code",
      "source": [
        "# Updating class Player\n",
        "\n",
        "class Player:\n",
        "  def __init__(self,name, hp=100):\n",
        "    self.name= name\n",
        "    self.hp = hp\n",
        "\n",
        "\n",
        "  def run(self):\n",
        "    print(f\"{self.name} is running in the game.\")\n",
        "\n",
        "  def take_damage(self, damage):\n",
        "    print(f\"-{damage} points\")\n",
        "    self.hp -= damage\n"
      ],
      "metadata": {
        "id": "Ka5ugHWL4plG"
      },
      "execution_count": 10,
      "outputs": []
    },
    {
      "cell_type": "code",
      "source": [
        "player_one = Player(\"Harry Porter\")\n",
        "\n",
        "print(player_one.hp)\n",
        "\n",
        "player_one.take_damage(20)\n",
        "\n",
        "print(player_one.hp)"
      ],
      "metadata": {
        "colab": {
          "base_uri": "https://localhost:8080/"
        },
        "id": "6kfiXSEH4pYw",
        "outputId": "117d109e-3d72-4c84-b9fe-9298b98a9446"
      },
      "execution_count": 11,
      "outputs": [
        {
          "output_type": "stream",
          "name": "stdout",
          "text": [
            "100\n",
            "-20 points\n",
            "80\n"
          ]
        }
      ]
    },
    {
      "cell_type": "markdown",
      "source": [
        "### Encapsulation is the binding of blocks of code into one such that related code blocks are kept together \"in one box per se\" and can be accessed by other users, codes or macchines.\n",
        "\n",
        "*Basically, once you create a class that has attributes and methods, as in class \"Player\" above,  you have used this pillar of OOP.*\n",
        "\n",
        "\n",
        "### Abstraction on the other hand is a pillar of OOP which ensures that the users of a block of code only see what is necessary. For instance, when using the len method of the list function, one only knows that the len would return the number of elements in the list. How this is done is not open to the user."
      ],
      "metadata": {
        "id": "1g8qBqJy-Fvg"
      }
    },
    {
      "cell_type": "markdown",
      "source": [
        "### Inheritance. This characteristics/pillar of the class allows it to take on the attributes and methods of a parent class. It can define its own though.\n",
        "\n",
        "*See below*"
      ],
      "metadata": {
        "id": "M56QES1G_tAE"
      }
    },
    {
      "cell_type": "code",
      "source": [
        "class SuperPlayer(Player):\n",
        "  def __init__(self, name, age):\n",
        "    super().__init__(name)\n",
        "    self.age = age\n",
        "\n",
        "  def fly(self):\n",
        "    print(f\"{self.name} is flying\")"
      ],
      "metadata": {
        "id": "fTRgCcg04pVO"
      },
      "execution_count": 14,
      "outputs": []
    },
    {
      "cell_type": "code",
      "source": [
        "s_player_one = SuperPlayer(\"Sally\", 28)\n",
        "\n",
        "s_player_one.run()\n",
        "\n",
        "s_player_one.fly()"
      ],
      "metadata": {
        "colab": {
          "base_uri": "https://localhost:8080/"
        },
        "id": "IHqN4Onl4pR4",
        "outputId": "c0a09c60-34f1-4285-9bba-d3a9e29d6e39"
      },
      "execution_count": 16,
      "outputs": [
        {
          "output_type": "stream",
          "name": "stdout",
          "text": [
            "Sally is running in the game.\n",
            "Sally is flying\n"
          ]
        }
      ]
    },
    {
      "cell_type": "code",
      "source": [
        "s_player_one.name"
      ],
      "metadata": {
        "colab": {
          "base_uri": "https://localhost:8080/",
          "height": 35
        },
        "id": "XCJHxCW8BC3n",
        "outputId": "fde5129c-977e-4a13-bcac-199da749df9e"
      },
      "execution_count": 18,
      "outputs": [
        {
          "output_type": "execute_result",
          "data": {
            "text/plain": [
              "'Sally'"
            ],
            "application/vnd.google.colaboratory.intrinsic+json": {
              "type": "string"
            }
          },
          "metadata": {},
          "execution_count": 18
        }
      ]
    },
    {
      "cell_type": "markdown",
      "source": [
        "### Polymorphism: The ability to take different shapes or forms\n",
        "\n",
        "*This is achieved through **method overriding** as seen below*"
      ],
      "metadata": {
        "id": "McxTfFiEBSLf"
      }
    },
    {
      "cell_type": "code",
      "source": [
        "class SuperPlayer(Player):\n",
        "  def __init__(self, name, age):\n",
        "    super().__init__(name)\n",
        "    self.age = age\n",
        "\n",
        "  def fly(self):\n",
        "    print(f\"{self.name} is flying\")\n",
        "\n",
        "  def run(self, skill_level = 3):\n",
        "    print(f\"{self.name} is running at skill level {skill_level}.\")"
      ],
      "metadata": {
        "id": "IBQBf625BNno"
      },
      "execution_count": 23,
      "outputs": []
    },
    {
      "cell_type": "code",
      "source": [
        "s_player_one = SuperPlayer(\"Sally\", 28)\n",
        "\n",
        "for each in [player_one, s_player_one]:\n",
        "  print(each.run())"
      ],
      "metadata": {
        "colab": {
          "base_uri": "https://localhost:8080/"
        },
        "id": "86XjMt57BQ2Z",
        "outputId": "181dbbc8-f1e2-45da-e4c0-adef6cb5c17c"
      },
      "execution_count": 25,
      "outputs": [
        {
          "output_type": "stream",
          "name": "stdout",
          "text": [
            "Harry Porter is running in the game.\n",
            "None\n",
            "Sally is running at skill level 3.\n",
            "None\n"
          ]
        }
      ]
    },
    {
      "cell_type": "code",
      "source": [],
      "metadata": {
        "id": "KerG3lbyBQy2"
      },
      "execution_count": null,
      "outputs": []
    },
    {
      "cell_type": "code",
      "source": [],
      "metadata": {
        "id": "1FVsLMa-BQu2"
      },
      "execution_count": null,
      "outputs": []
    },
    {
      "cell_type": "code",
      "source": [],
      "metadata": {
        "id": "_4qqBk-zBQrf"
      },
      "execution_count": null,
      "outputs": []
    },
    {
      "cell_type": "code",
      "source": [],
      "metadata": {
        "id": "wG30hfv5BQoJ"
      },
      "execution_count": null,
      "outputs": []
    },
    {
      "cell_type": "code",
      "source": [],
      "metadata": {
        "id": "Vam1W5yuBQl_"
      },
      "execution_count": null,
      "outputs": []
    },
    {
      "cell_type": "code",
      "source": [],
      "metadata": {
        "id": "1uNErWwcBQi2"
      },
      "execution_count": null,
      "outputs": []
    },
    {
      "cell_type": "code",
      "source": [],
      "metadata": {
        "id": "yUjPE1qGBQf8"
      },
      "execution_count": null,
      "outputs": []
    }
  ]
}